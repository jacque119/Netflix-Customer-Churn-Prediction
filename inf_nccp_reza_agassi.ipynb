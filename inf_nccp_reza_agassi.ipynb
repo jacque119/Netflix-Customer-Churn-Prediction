{
 "cells": [
  {
   "cell_type": "markdown",
   "metadata": {},
   "source": [
    "# **Ch 9 - Model Inference**"
   ]
  },
  {
   "cell_type": "code",
   "execution_count": 1,
   "metadata": {},
   "outputs": [],
   "source": [
    "import joblib\n",
    "import pandas as pd\n"
   ]
  },
  {
   "cell_type": "code",
   "execution_count": 2,
   "metadata": {},
   "outputs": [
    {
     "name": "stdout",
     "output_type": "stream",
     "text": [
      "Model loaded successfully!\n"
     ]
    }
   ],
   "source": [
    "# Load the saved model\n",
    "model_filename = \"svm_churn_model.pkl\"\n",
    "loaded_model = joblib.load(model_filename)\n",
    "\n",
    "print(\"Model loaded successfully!\")\n"
   ]
  },
  {
   "cell_type": "markdown",
   "metadata": {},
   "source": [
    "generate synthetic data for inference"
   ]
  },
  {
   "cell_type": "code",
   "execution_count": null,
   "metadata": {},
   "outputs": [],
   "source": [
    "# Generate multiple inference samples with diverse customer profiles\n",
    "inference_data = pd.DataFrame([\n",
    "    {\"Device Used Most Often\": \"Tablet\", \"Genre Preference\": \"Action\", \"Region\": \"North America\", \n",
    "     \"Payment History (On-Time/Delayed)\": \"On-Time\", \"Subscription Plan\": \"Premium\", \"Promotional Offers Used\": 2, \n",
    "     \"Subscription Length (Months)\": 12, \"Customer Satisfaction Score (1-10)\": 8, \"Daily Watch Time (Hours)\": 3.5, \n",
    "     \"Engagement Rate (1-10)\": 7, \"Support Queries Logged\": 1, \"Age\": 35, \"Monthly Income ($)\": 5000, \"Number of Profiles Created\": 3},\n",
    "\n",
    "    {\"Device Used Most Often\": \"Smart TV\", \"Genre Preference\": \"Comedy\", \"Region\": \"Europe\", \n",
    "     \"Payment History (On-Time/Delayed)\": \"Delayed\", \"Subscription Plan\": \"Basic\", \"Promotional Offers Used\": 0, \n",
    "     \"Subscription Length (Months)\": 6, \"Customer Satisfaction Score (1-10)\": 5, \"Daily Watch Time (Hours)\": 2.0, \n",
    "     \"Engagement Rate (1-10)\": 5, \"Support Queries Logged\": 2, \"Age\": 28, \"Monthly Income ($)\": 3500, \"Number of Profiles Created\": 2},\n",
    "\n",
    "    {\"Device Used Most Often\": \"Mobile\", \"Genre Preference\": \"Drama\", \"Region\": \"Asia\", \n",
    "     \"Payment History (On-Time/Delayed)\": \"On-Time\", \"Subscription Plan\": \"Standard\", \"Promotional Offers Used\": 1, \n",
    "     \"Subscription Length (Months)\": 24, \"Customer Satisfaction Score (1-10)\": 9, \"Daily Watch Time (Hours)\": 5.0, \n",
    "     \"Engagement Rate (1-10)\": 9, \"Support Queries Logged\": 0, \"Age\": 22, \"Monthly Income ($)\": 2500, \"Number of Profiles Created\": 1},\n",
    "\n",
    "    {\"Device Used Most Often\": \"Laptop\", \"Genre Preference\": \"Horror\", \"Region\": \"South America\", \n",
    "     \"Payment History (On-Time/Delayed)\": \"Delayed\", \"Subscription Plan\": \"Standard\", \"Promotional Offers Used\": 3, \n",
    "     \"Subscription Length (Months)\": 18, \"Customer Satisfaction Score (1-10)\": 6, \"Daily Watch Time (Hours)\": 4.5, \n",
    "     \"Engagement Rate (1-10)\": 6, \"Support Queries Logged\": 3, \"Age\": 40, \"Monthly Income ($)\": 4500, \"Number of Profiles Created\": 4},\n",
    "\n",
    "    {\"Device Used Most Often\": \"Desktop\", \"Genre Preference\": \"Sci-Fi\", \"Region\": \"Australia\", \n",
    "     \"Payment History (On-Time/Delayed)\": \"On-Time\", \"Subscription Plan\": \"Premium\", \"Promotional Offers Used\": 4, \n",
    "     \"Subscription Length (Months)\": 36, \"Customer Satisfaction Score (1-10)\": 10, \"Daily Watch Time (Hours)\": 6.0, \n",
    "     \"Engagement Rate (1-10)\": 10, \"Support Queries Logged\": 0, \"Age\": 30, \"Monthly Income ($)\": 6000, \"Number of Profiles Created\": 5}\n",
    "])\n",
    "\n",
    "# Save the inference data to a CSV file\n",
    "inference_data.to_csv(\"batch_inference_data.csv\", index=False)\n",
    "\n"
   ]
  },
  {
   "cell_type": "code",
   "execution_count": 7,
   "metadata": {},
   "outputs": [
    {
     "data": {
      "text/html": [
       "<div>\n",
       "<style scoped>\n",
       "    .dataframe tbody tr th:only-of-type {\n",
       "        vertical-align: middle;\n",
       "    }\n",
       "\n",
       "    .dataframe tbody tr th {\n",
       "        vertical-align: top;\n",
       "    }\n",
       "\n",
       "    .dataframe thead th {\n",
       "        text-align: right;\n",
       "    }\n",
       "</style>\n",
       "<table border=\"1\" class=\"dataframe\">\n",
       "  <thead>\n",
       "    <tr style=\"text-align: right;\">\n",
       "      <th></th>\n",
       "      <th>Device Used Most Often</th>\n",
       "      <th>Genre Preference</th>\n",
       "      <th>Region</th>\n",
       "      <th>Payment History (On-Time/Delayed)</th>\n",
       "      <th>Subscription Plan</th>\n",
       "      <th>Promotional Offers Used</th>\n",
       "      <th>Subscription Length (Months)</th>\n",
       "      <th>Customer Satisfaction Score (1-10)</th>\n",
       "      <th>Daily Watch Time (Hours)</th>\n",
       "      <th>Engagement Rate (1-10)</th>\n",
       "      <th>Support Queries Logged</th>\n",
       "      <th>Age</th>\n",
       "      <th>Monthly Income ($)</th>\n",
       "      <th>Number of Profiles Created</th>\n",
       "    </tr>\n",
       "  </thead>\n",
       "  <tbody>\n",
       "    <tr>\n",
       "      <th>0</th>\n",
       "      <td>Tablet</td>\n",
       "      <td>Action</td>\n",
       "      <td>North America</td>\n",
       "      <td>On-Time</td>\n",
       "      <td>Premium</td>\n",
       "      <td>2</td>\n",
       "      <td>12</td>\n",
       "      <td>8</td>\n",
       "      <td>3.5</td>\n",
       "      <td>7</td>\n",
       "      <td>1</td>\n",
       "      <td>35</td>\n",
       "      <td>5000</td>\n",
       "      <td>3</td>\n",
       "    </tr>\n",
       "    <tr>\n",
       "      <th>1</th>\n",
       "      <td>Smart TV</td>\n",
       "      <td>Comedy</td>\n",
       "      <td>Europe</td>\n",
       "      <td>Delayed</td>\n",
       "      <td>Basic</td>\n",
       "      <td>0</td>\n",
       "      <td>6</td>\n",
       "      <td>5</td>\n",
       "      <td>2.0</td>\n",
       "      <td>5</td>\n",
       "      <td>2</td>\n",
       "      <td>28</td>\n",
       "      <td>3500</td>\n",
       "      <td>2</td>\n",
       "    </tr>\n",
       "    <tr>\n",
       "      <th>2</th>\n",
       "      <td>Mobile</td>\n",
       "      <td>Drama</td>\n",
       "      <td>Asia</td>\n",
       "      <td>On-Time</td>\n",
       "      <td>Standard</td>\n",
       "      <td>1</td>\n",
       "      <td>24</td>\n",
       "      <td>9</td>\n",
       "      <td>5.0</td>\n",
       "      <td>9</td>\n",
       "      <td>0</td>\n",
       "      <td>22</td>\n",
       "      <td>2500</td>\n",
       "      <td>1</td>\n",
       "    </tr>\n",
       "    <tr>\n",
       "      <th>3</th>\n",
       "      <td>Laptop</td>\n",
       "      <td>Horror</td>\n",
       "      <td>South America</td>\n",
       "      <td>Delayed</td>\n",
       "      <td>Standard</td>\n",
       "      <td>3</td>\n",
       "      <td>18</td>\n",
       "      <td>6</td>\n",
       "      <td>4.5</td>\n",
       "      <td>6</td>\n",
       "      <td>3</td>\n",
       "      <td>40</td>\n",
       "      <td>4500</td>\n",
       "      <td>4</td>\n",
       "    </tr>\n",
       "    <tr>\n",
       "      <th>4</th>\n",
       "      <td>Desktop</td>\n",
       "      <td>Sci-Fi</td>\n",
       "      <td>Australia</td>\n",
       "      <td>On-Time</td>\n",
       "      <td>Premium</td>\n",
       "      <td>4</td>\n",
       "      <td>36</td>\n",
       "      <td>10</td>\n",
       "      <td>6.0</td>\n",
       "      <td>10</td>\n",
       "      <td>0</td>\n",
       "      <td>30</td>\n",
       "      <td>6000</td>\n",
       "      <td>5</td>\n",
       "    </tr>\n",
       "  </tbody>\n",
       "</table>\n",
       "</div>"
      ],
      "text/plain": [
       "  Device Used Most Often Genre Preference         Region  \\\n",
       "0                 Tablet           Action  North America   \n",
       "1               Smart TV           Comedy         Europe   \n",
       "2                 Mobile            Drama           Asia   \n",
       "3                 Laptop           Horror  South America   \n",
       "4                Desktop           Sci-Fi      Australia   \n",
       "\n",
       "  Payment History (On-Time/Delayed) Subscription Plan  \\\n",
       "0                           On-Time           Premium   \n",
       "1                           Delayed             Basic   \n",
       "2                           On-Time          Standard   \n",
       "3                           Delayed          Standard   \n",
       "4                           On-Time           Premium   \n",
       "\n",
       "   Promotional Offers Used  Subscription Length (Months)  \\\n",
       "0                        2                            12   \n",
       "1                        0                             6   \n",
       "2                        1                            24   \n",
       "3                        3                            18   \n",
       "4                        4                            36   \n",
       "\n",
       "   Customer Satisfaction Score (1-10)  Daily Watch Time (Hours)  \\\n",
       "0                                   8                       3.5   \n",
       "1                                   5                       2.0   \n",
       "2                                   9                       5.0   \n",
       "3                                   6                       4.5   \n",
       "4                                  10                       6.0   \n",
       "\n",
       "   Engagement Rate (1-10)  Support Queries Logged  Age  Monthly Income ($)  \\\n",
       "0                       7                       1   35                5000   \n",
       "1                       5                       2   28                3500   \n",
       "2                       9                       0   22                2500   \n",
       "3                       6                       3   40                4500   \n",
       "4                      10                       0   30                6000   \n",
       "\n",
       "   Number of Profiles Created  \n",
       "0                           3  \n",
       "1                           2  \n",
       "2                           1  \n",
       "3                           4  \n",
       "4                           5  "
      ]
     },
     "execution_count": 7,
     "metadata": {},
     "output_type": "execute_result"
    }
   ],
   "source": [
    "# Load inference data\n",
    "inference_df = pd.read_csv(\"batch_inference_data.csv\")\n",
    "\n",
    "inference_df"
   ]
  },
  {
   "cell_type": "code",
   "execution_count": 9,
   "metadata": {},
   "outputs": [
    {
     "name": "stdout",
     "output_type": "stream",
     "text": [
      "   Churn Prediction\n",
      "0                 0\n",
      "1                 1\n",
      "2                 0\n",
      "3                 1\n",
      "4                 0\n"
     ]
    }
   ],
   "source": [
    "# Ensure all categorical columns are strings\n",
    "categorical_cols = ['Device Used Most Often', 'Genre Preference', 'Region', \n",
    "                    'Payment History (On-Time/Delayed)', 'Subscription Plan', \n",
    "                    'Promotional Offers Used']\n",
    "inference_df[categorical_cols] = inference_df[categorical_cols].astype(str)\n",
    "\n",
    "# Make predictions using the raw inference data\n",
    "predictions = loaded_model.predict(inference_df)\n",
    "\n",
    "# Append predictions to the dataframe\n",
    "inference_df[\"Churn Prediction\"] = predictions\n",
    "\n",
    "# Display results\n",
    "print(inference_df[[\"Churn Prediction\"]])\n"
   ]
  },
  {
   "cell_type": "markdown",
   "metadata": {},
   "source": [
    "The model successfully predict the new raw inference data."
   ]
  },
  {
   "cell_type": "code",
   "execution_count": 10,
   "metadata": {},
   "outputs": [
    {
     "name": "stdout",
     "output_type": "stream",
     "text": [
      "Churn Prediction\n",
      "0    3\n",
      "1    2\n",
      "Name: count, dtype: int64\n"
     ]
    }
   ],
   "source": [
    "print(inference_df[\"Churn Prediction\"].value_counts())\n"
   ]
  },
  {
   "cell_type": "markdown",
   "metadata": {},
   "source": [
    "The model predict 3 not churn 2 churn for the trial synthetic data inference."
   ]
  },
  {
   "cell_type": "code",
   "execution_count": null,
   "metadata": {},
   "outputs": [
    {
     "data": {
      "image/png": "[encoded data removed]",
      "text/plain": [
       "<Figure size 640x480 with 1 Axes>"
      ]
     },
     "metadata": {},
     "output_type": "display_data"
    }
   ],
   "source": [
    "# Plot churn distribution\n",
    "inference_df[\"Churn Prediction\"].value_counts().plot(kind=\"bar\", color=[\"blue\", \"red\"])\n",
    "plt.xlabel(\"Churn Prediction (0 = No, 1 = Yes)\")\n",
    "plt.ylabel(\"Count\")\n",
    "plt.title(\"Churn Prediction Distribution\")\n",
    "plt.xticks(rotation=0)\n",
    "plt.show()\n"
   ]
  },
  {
   "cell_type": "markdown",
   "metadata": {},
   "source": [
    "### **Churn Prediction Distribution Interpretation**\n",
    "\n",
    "The bar chart visualizes the distribution of predicted churn outcomes based on the inference dataset. Below are the key takeaways:\n",
    "\n",
    "#### **1. Two Categories of Predictions**\n",
    "- **0 (Blue Bar)**: Represents customers predicted **not to churn**.\n",
    "- **1 (Red Bar)**: Represents customers predicted **to churn**.\n",
    "\n",
    "#### **2. Proportion of Predictions**\n",
    "- The **blue bar is taller than the red bar**, meaning more customers are predicted to remain subscribed than to churn.\n",
    "- Specifically, **3 customers are predicted to stay (0), while 2 are predicted to churn (1)**.\n",
    "\n",
    "- Further analysis is recommended to **identify key factors influencing churn**, such as engagement levels, customer satisfaction scores, and subscription plans.\n",
    "\n",
    "By understanding the churn predictions, the business can make data-driven decisions to enhance customer retention and long-term profitability.\n"
   ]
  },
  {
   "cell_type": "markdown",
   "metadata": {},
   "source": []
  }
 ],
 "metadata": {
  "kernelspec": {
   "display_name": "base",
   "language": "python",
   "name": "python3"
  },
  "language_info": {
   "codemirror_mode": {
    "name": "ipython",
    "version": 3
   },
   "file_extension": ".py",
   "mimetype": "text/x-python",
   "name": "python",
   "nbconvert_exporter": "python",
   "pygments_lexer": "ipython3",
   "version": "3.12.7"
  }
 },
 "nbformat": 4,
 "nbformat_minor": 2
}
