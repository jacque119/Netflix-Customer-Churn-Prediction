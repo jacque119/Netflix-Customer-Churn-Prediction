{
 "cells": [
  {
   "cell_type": "markdown",
   "metadata": {},
   "source": [
    "# **Ch 1 - Intorduction**\n",
    "\n",
    "Reza Febian Agassi\n",
    "\n",
    "RMT-040"
   ]
  },
  {
   "cell_type": "markdown",
   "metadata": {},
   "source": [
    "### **Netflix Customer Churn Prediction**\n",
    "\n",
    "In the highly competitive landscape of subscription-based streaming services, customer retention is crucial for sustained business growth. Customer churn, the phenomenon where users cancel their subscriptions, directly impacts revenue, profitability, and market share. With the increasing presence of alternative streaming platforms and shifting viewer preferences, it is essential for companies like Netflix to understand why customers leave and proactively address churn risk.\n",
    "\n",
    "Derived from that problem, we developed a machine learning model to predict customer churn based on various factors such as user engagement, payment history, and demographic information. This project utilizes the Netflix Engagement Dataset sourced from Kaggle to analyze and classify customer churn patterns. By identifying high-risk customers early, Netflix or other subscription-based platforms can implement targeted retention strategies, including personalized recommendations, exclusive content, special discounts, or improved customer support.\n",
    "\n",
    "For this study, churn labels are defined as follows:\n",
    "\n",
    "0 = No Churn (Customer remains subscribed)\n",
    "\n",
    "1 = Churn (Customer cancels subscription)\n",
    "\n",
    "To evaluate the model's effectiveness, we prioritize **recall** as the primary performance metric. This is to minimize false negatives, ensuring that customers who are actually at risk of churning are correctly identified. By emphasizing recall, we reduce the chances of misclassifying a high-risk customer as a retained one, allowing businesses to take proactive retention measures before they cancel their subscription.\n"
   ]
  },
  {
   "cell_type": "markdown",
   "metadata": {},
   "source": [
    "**Key Objectives:**\n",
    "\n",
    "1. **Predict** churn likelihood based on customer engagement (watch time, satisfaction, queries.).\n",
    "\n",
    "2. **Identify** key churn factors, such as subscription length, payment history, and device usage.\n",
    "\n",
    "3. **Develop** a robust classification models using machine learning techniques (K-Nearest Neighbors, Support Vector Machine, Decision Tree, Random Forest, and Gradient Boosting).\n",
    "\n",
    "4. **Optimize** model performance through feature engineering and hyperparameter tuning.\n",
    "\n",
    "5. **Provide actionable** insights for improving customer retention strategies."
   ]
  },
  {
   "cell_type": "markdown",
   "metadata": {},
   "source": [
    "# **Ch 2 - Import Libraries**"
   ]
  },
  {
   "cell_type": "markdown",
   "metadata": {},
   "source": [
    "First, we import all necessary libraries that we need to develop for the machine learning models in this project."
   ]
  },
  {
   "cell_type": "code",
   "execution_count": 1,
   "metadata": {},
   "outputs": [],
   "source": [
    "import pandas as pd\n",
    "import numpy as np\n",
    "import matplotlib.pyplot as plt\n",
    "import seaborn as sns\n",
    "from sklearn.model_selection import train_test_split, cross_val_score, GridSearchCV\n",
    "from sklearn.preprocessing import LabelEncoder, StandardScaler\n",
    "from sklearn.ensemble import RandomForestClassifier, GradientBoostingClassifier\n",
    "from sklearn.tree import DecisionTreeClassifier\n",
    "from sklearn.svm import SVC\n",
    "from sklearn.neighbors import KNeighborsClassifier\n",
    "from sklearn.metrics import classification_report, accuracy_score, confusion_matrix, ConfusionMatrixDisplay, roc_curve, auc\n",
    "from imblearn.over_sampling import SMOTE\n",
    "from sklearn.pipeline import Pipeline\n",
    "from sklearn.preprocessing import StandardScaler, OneHotEncoder\n",
    "from sklearn.compose import ColumnTransformer\n",
    "import warnings\n",
    "warnings.filterwarnings('ignore')\n"
   ]
  },
  {
   "cell_type": "markdown",
   "metadata": {},
   "source": [
    "# **Ch 3 - Data Loading**"
   ]
  },
  {
   "cell_type": "markdown",
   "metadata": {},
   "source": [
    "After importing all the necessary libraries, the next step is to load the dataset and analyze it to gain a better understanding of its structure and contents."
   ]
  },
  {
   "cell_type": "code",
   "execution_count": 2,
   "metadata": {},
   "outputs": [
    {
     "data": {
      "text/html": [
       "<div>\n",
       "<style scoped>\n",
       "    .dataframe tbody tr th:only-of-type {\n",
       "        vertical-align: middle;\n",
       "    }\n",
       "\n",
       "    .dataframe tbody tr th {\n",
       "        vertical-align: top;\n",
       "    }\n",
       "\n",
       "    .dataframe thead th {\n",
       "        text-align: right;\n",
       "    }\n",
       "</style>\n",
       "<table border=\"1\" class=\"dataframe\">\n",
       "  <thead>\n",
       "    <tr style=\"text-align: right;\">\n",
       "      <th></th>\n",
       "      <th>0</th>\n",
       "      <th>1</th>\n",
       "      <th>2</th>\n",
       "      <th>3</th>\n",
       "      <th>4</th>\n",
       "      <th>5</th>\n",
       "      <th>6</th>\n",
       "      <th>7</th>\n",
       "      <th>8</th>\n",
       "      <th>9</th>\n",
       "      <th>...</th>\n",
       "      <th>3490</th>\n",
       "      <th>3491</th>\n",
       "      <th>3492</th>\n",
       "      <th>3493</th>\n",
       "      <th>3494</th>\n",
       "      <th>3495</th>\n",
       "      <th>3496</th>\n",
       "      <th>3497</th>\n",
       "      <th>3498</th>\n",
       "      <th>3499</th>\n",
       "    </tr>\n",
       "  </thead>\n",
       "  <tbody>\n",
       "    <tr>\n",
       "      <th>Customer ID</th>\n",
       "      <td>1</td>\n",
       "      <td>2</td>\n",
       "      <td>3</td>\n",
       "      <td>4</td>\n",
       "      <td>5</td>\n",
       "      <td>6</td>\n",
       "      <td>7</td>\n",
       "      <td>8</td>\n",
       "      <td>9</td>\n",
       "      <td>10</td>\n",
       "      <td>...</td>\n",
       "      <td>3491</td>\n",
       "      <td>3492</td>\n",
       "      <td>3493</td>\n",
       "      <td>3494</td>\n",
       "      <td>3495</td>\n",
       "      <td>3496</td>\n",
       "      <td>3497</td>\n",
       "      <td>3498</td>\n",
       "      <td>3499</td>\n",
       "      <td>3500</td>\n",
       "    </tr>\n",
       "    <tr>\n",
       "      <th>Subscription Length (Months)</th>\n",
       "      <td>50</td>\n",
       "      <td>40</td>\n",
       "      <td>17</td>\n",
       "      <td>59</td>\n",
       "      <td>5</td>\n",
       "      <td>1</td>\n",
       "      <td>19</td>\n",
       "      <td>59</td>\n",
       "      <td>37</td>\n",
       "      <td>53</td>\n",
       "      <td>...</td>\n",
       "      <td>31</td>\n",
       "      <td>56</td>\n",
       "      <td>57</td>\n",
       "      <td>54</td>\n",
       "      <td>26</td>\n",
       "      <td>20</td>\n",
       "      <td>56</td>\n",
       "      <td>52</td>\n",
       "      <td>34</td>\n",
       "      <td>6</td>\n",
       "    </tr>\n",
       "    <tr>\n",
       "      <th>Customer Satisfaction Score (1-10)</th>\n",
       "      <td>10</td>\n",
       "      <td>5</td>\n",
       "      <td>8</td>\n",
       "      <td>10</td>\n",
       "      <td>7</td>\n",
       "      <td>7</td>\n",
       "      <td>9</td>\n",
       "      <td>8</td>\n",
       "      <td>4</td>\n",
       "      <td>8</td>\n",
       "      <td>...</td>\n",
       "      <td>2</td>\n",
       "      <td>7</td>\n",
       "      <td>7</td>\n",
       "      <td>5</td>\n",
       "      <td>9</td>\n",
       "      <td>4</td>\n",
       "      <td>8</td>\n",
       "      <td>7</td>\n",
       "      <td>5</td>\n",
       "      <td>5</td>\n",
       "    </tr>\n",
       "    <tr>\n",
       "      <th>Daily Watch Time (Hours)</th>\n",
       "      <td>4.32</td>\n",
       "      <td>4.45</td>\n",
       "      <td>4.81</td>\n",
       "      <td>2.67</td>\n",
       "      <td>4.2</td>\n",
       "      <td>2.99</td>\n",
       "      <td>2.8</td>\n",
       "      <td>5.51</td>\n",
       "      <td>2.2</td>\n",
       "      <td>3.05</td>\n",
       "      <td>...</td>\n",
       "      <td>5.42</td>\n",
       "      <td>4.53</td>\n",
       "      <td>4.41</td>\n",
       "      <td>1.55</td>\n",
       "      <td>3.49</td>\n",
       "      <td>4.82</td>\n",
       "      <td>4.48</td>\n",
       "      <td>4.43</td>\n",
       "      <td>1.11</td>\n",
       "      <td>4.34</td>\n",
       "    </tr>\n",
       "    <tr>\n",
       "      <th>Engagement Rate (1-10)</th>\n",
       "      <td>8</td>\n",
       "      <td>3</td>\n",
       "      <td>8</td>\n",
       "      <td>10</td>\n",
       "      <td>9</td>\n",
       "      <td>8</td>\n",
       "      <td>8</td>\n",
       "      <td>9</td>\n",
       "      <td>5</td>\n",
       "      <td>9</td>\n",
       "      <td>...</td>\n",
       "      <td>6</td>\n",
       "      <td>7</td>\n",
       "      <td>8</td>\n",
       "      <td>6</td>\n",
       "      <td>7</td>\n",
       "      <td>6</td>\n",
       "      <td>7</td>\n",
       "      <td>8</td>\n",
       "      <td>3</td>\n",
       "      <td>3</td>\n",
       "    </tr>\n",
       "    <tr>\n",
       "      <th>Device Used Most Often</th>\n",
       "      <td>Mobile</td>\n",
       "      <td>Smart TV</td>\n",
       "      <td>Laptop</td>\n",
       "      <td>Mobile</td>\n",
       "      <td>Smart TV</td>\n",
       "      <td>Laptop</td>\n",
       "      <td>Laptop</td>\n",
       "      <td>Laptop</td>\n",
       "      <td>Mobile</td>\n",
       "      <td>Tablet</td>\n",
       "      <td>...</td>\n",
       "      <td>Tablet</td>\n",
       "      <td>Laptop</td>\n",
       "      <td>Laptop</td>\n",
       "      <td>Laptop</td>\n",
       "      <td>Laptop</td>\n",
       "      <td>Laptop</td>\n",
       "      <td>Mobile</td>\n",
       "      <td>Tablet</td>\n",
       "      <td>Smart TV</td>\n",
       "      <td>Mobile</td>\n",
       "    </tr>\n",
       "    <tr>\n",
       "      <th>Genre Preference</th>\n",
       "      <td>Romance</td>\n",
       "      <td>Comedy</td>\n",
       "      <td>Sci-fi</td>\n",
       "      <td>Action</td>\n",
       "      <td>Sci-fi</td>\n",
       "      <td>Romance</td>\n",
       "      <td>Sci-fi</td>\n",
       "      <td>Drama</td>\n",
       "      <td>Drama</td>\n",
       "      <td>Romance</td>\n",
       "      <td>...</td>\n",
       "      <td>Sci-fi</td>\n",
       "      <td>Romance</td>\n",
       "      <td>Sci-fi</td>\n",
       "      <td>Comedy</td>\n",
       "      <td>Action</td>\n",
       "      <td>Sci-fi</td>\n",
       "      <td>Romance</td>\n",
       "      <td>Sci-fi</td>\n",
       "      <td>Romance</td>\n",
       "      <td>Comedy</td>\n",
       "    </tr>\n",
       "    <tr>\n",
       "      <th>Region</th>\n",
       "      <td>Oceania</td>\n",
       "      <td>Asia</td>\n",
       "      <td>South America</td>\n",
       "      <td>Africa</td>\n",
       "      <td>North America</td>\n",
       "      <td>Africa</td>\n",
       "      <td>South America</td>\n",
       "      <td>Africa</td>\n",
       "      <td>Asia</td>\n",
       "      <td>North America</td>\n",
       "      <td>...</td>\n",
       "      <td>Oceania</td>\n",
       "      <td>Africa</td>\n",
       "      <td>North America</td>\n",
       "      <td>Oceania</td>\n",
       "      <td>Africa</td>\n",
       "      <td>Asia</td>\n",
       "      <td>Africa</td>\n",
       "      <td>Oceania</td>\n",
       "      <td>Asia</td>\n",
       "      <td>North America</td>\n",
       "    </tr>\n",
       "    <tr>\n",
       "      <th>Payment History (On-Time/Delayed)</th>\n",
       "      <td>On-Time</td>\n",
       "      <td>On-Time</td>\n",
       "      <td>On-Time</td>\n",
       "      <td>On-Time</td>\n",
       "      <td>On-Time</td>\n",
       "      <td>On-Time</td>\n",
       "      <td>Delayed</td>\n",
       "      <td>On-Time</td>\n",
       "      <td>On-Time</td>\n",
       "      <td>On-Time</td>\n",
       "      <td>...</td>\n",
       "      <td>Delayed</td>\n",
       "      <td>On-Time</td>\n",
       "      <td>On-Time</td>\n",
       "      <td>On-Time</td>\n",
       "      <td>On-Time</td>\n",
       "      <td>On-Time</td>\n",
       "      <td>On-Time</td>\n",
       "      <td>On-Time</td>\n",
       "      <td>On-Time</td>\n",
       "      <td>On-Time</td>\n",
       "    </tr>\n",
       "    <tr>\n",
       "      <th>Subscription Plan</th>\n",
       "      <td>Premium</td>\n",
       "      <td>Premium</td>\n",
       "      <td>Basic</td>\n",
       "      <td>Basic</td>\n",
       "      <td>Standard</td>\n",
       "      <td>Basic</td>\n",
       "      <td>Standard</td>\n",
       "      <td>Basic</td>\n",
       "      <td>Standard</td>\n",
       "      <td>Basic</td>\n",
       "      <td>...</td>\n",
       "      <td>Premium</td>\n",
       "      <td>Basic</td>\n",
       "      <td>Basic</td>\n",
       "      <td>Basic</td>\n",
       "      <td>Basic</td>\n",
       "      <td>Premium</td>\n",
       "      <td>Basic</td>\n",
       "      <td>Standard</td>\n",
       "      <td>Basic</td>\n",
       "      <td>Basic</td>\n",
       "    </tr>\n",
       "    <tr>\n",
       "      <th>Churn Status (Yes/No)</th>\n",
       "      <td>No</td>\n",
       "      <td>No</td>\n",
       "      <td>No</td>\n",
       "      <td>No</td>\n",
       "      <td>No</td>\n",
       "      <td>No</td>\n",
       "      <td>Yes</td>\n",
       "      <td>No</td>\n",
       "      <td>No</td>\n",
       "      <td>No</td>\n",
       "      <td>...</td>\n",
       "      <td>No</td>\n",
       "      <td>No</td>\n",
       "      <td>No</td>\n",
       "      <td>No</td>\n",
       "      <td>No</td>\n",
       "      <td>No</td>\n",
       "      <td>No</td>\n",
       "      <td>No</td>\n",
       "      <td>No</td>\n",
       "      <td>No</td>\n",
       "    </tr>\n",
       "    <tr>\n",
       "      <th>Support Queries Logged</th>\n",
       "      <td>9</td>\n",
       "      <td>6</td>\n",
       "      <td>0</td>\n",
       "      <td>1</td>\n",
       "      <td>7</td>\n",
       "      <td>0</td>\n",
       "      <td>1</td>\n",
       "      <td>9</td>\n",
       "      <td>5</td>\n",
       "      <td>2</td>\n",
       "      <td>...</td>\n",
       "      <td>6</td>\n",
       "      <td>2</td>\n",
       "      <td>6</td>\n",
       "      <td>0</td>\n",
       "      <td>5</td>\n",
       "      <td>1</td>\n",
       "      <td>2</td>\n",
       "      <td>7</td>\n",
       "      <td>8</td>\n",
       "      <td>0</td>\n",
       "    </tr>\n",
       "    <tr>\n",
       "      <th>Age</th>\n",
       "      <td>26</td>\n",
       "      <td>27</td>\n",
       "      <td>55</td>\n",
       "      <td>29</td>\n",
       "      <td>45</td>\n",
       "      <td>54</td>\n",
       "      <td>23</td>\n",
       "      <td>57</td>\n",
       "      <td>51</td>\n",
       "      <td>67</td>\n",
       "      <td>...</td>\n",
       "      <td>58</td>\n",
       "      <td>54</td>\n",
       "      <td>49</td>\n",
       "      <td>30</td>\n",
       "      <td>29</td>\n",
       "      <td>24</td>\n",
       "      <td>32</td>\n",
       "      <td>50</td>\n",
       "      <td>30</td>\n",
       "      <td>45</td>\n",
       "    </tr>\n",
       "    <tr>\n",
       "      <th>Monthly Income ($)</th>\n",
       "      <td>3307</td>\n",
       "      <td>7333</td>\n",
       "      <td>7527</td>\n",
       "      <td>9934</td>\n",
       "      <td>6242</td>\n",
       "      <td>5897</td>\n",
       "      <td>2231</td>\n",
       "      <td>2173</td>\n",
       "      <td>4742</td>\n",
       "      <td>7278</td>\n",
       "      <td>...</td>\n",
       "      <td>5568</td>\n",
       "      <td>7862</td>\n",
       "      <td>7117</td>\n",
       "      <td>6745</td>\n",
       "      <td>7076</td>\n",
       "      <td>9508</td>\n",
       "      <td>9579</td>\n",
       "      <td>6914</td>\n",
       "      <td>6525</td>\n",
       "      <td>9109</td>\n",
       "    </tr>\n",
       "    <tr>\n",
       "      <th>Promotional Offers Used</th>\n",
       "      <td>Yes</td>\n",
       "      <td>Yes</td>\n",
       "      <td>Yes</td>\n",
       "      <td>Yes</td>\n",
       "      <td>Yes</td>\n",
       "      <td>No</td>\n",
       "      <td>No</td>\n",
       "      <td>Yes</td>\n",
       "      <td>No</td>\n",
       "      <td>No</td>\n",
       "      <td>...</td>\n",
       "      <td>Yes</td>\n",
       "      <td>No</td>\n",
       "      <td>Yes</td>\n",
       "      <td>No</td>\n",
       "      <td>Yes</td>\n",
       "      <td>Yes</td>\n",
       "      <td>No</td>\n",
       "      <td>Yes</td>\n",
       "      <td>Yes</td>\n",
       "      <td>Yes</td>\n",
       "    </tr>\n",
       "    <tr>\n",
       "      <th>Number of Profiles Created</th>\n",
       "      <td>2</td>\n",
       "      <td>2</td>\n",
       "      <td>3</td>\n",
       "      <td>3</td>\n",
       "      <td>3</td>\n",
       "      <td>3</td>\n",
       "      <td>3</td>\n",
       "      <td>3</td>\n",
       "      <td>4</td>\n",
       "      <td>5</td>\n",
       "      <td>...</td>\n",
       "      <td>5</td>\n",
       "      <td>2</td>\n",
       "      <td>5</td>\n",
       "      <td>4</td>\n",
       "      <td>1</td>\n",
       "      <td>1</td>\n",
       "      <td>3</td>\n",
       "      <td>2</td>\n",
       "      <td>3</td>\n",
       "      <td>2</td>\n",
       "    </tr>\n",
       "  </tbody>\n",
       "</table>\n",
       "<p>16 rows × 3500 columns</p>\n",
       "</div>"
      ],
      "text/plain": [
       "                                       0         1              2        3     \\\n",
       "Customer ID                               1         2              3        4   \n",
       "Subscription Length (Months)             50        40             17       59   \n",
       "Customer Satisfaction Score (1-10)       10         5              8       10   \n",
       "Daily Watch Time (Hours)               4.32      4.45           4.81     2.67   \n",
       "Engagement Rate (1-10)                    8         3              8       10   \n",
       "Device Used Most Often               Mobile  Smart TV         Laptop   Mobile   \n",
       "Genre Preference                    Romance    Comedy         Sci-fi   Action   \n",
       "Region                              Oceania      Asia  South America   Africa   \n",
       "Payment History (On-Time/Delayed)   On-Time   On-Time        On-Time  On-Time   \n",
       "Subscription Plan                   Premium   Premium          Basic    Basic   \n",
       "Churn Status (Yes/No)                    No        No             No       No   \n",
       "Support Queries Logged                    9         6              0        1   \n",
       "Age                                      26        27             55       29   \n",
       "Monthly Income ($)                     3307      7333           7527     9934   \n",
       "Promotional Offers Used                 Yes       Yes            Yes      Yes   \n",
       "Number of Profiles Created                2         2              3        3   \n",
       "\n",
       "                                             4        5              6     \\\n",
       "Customer ID                                     5        6              7   \n",
       "Subscription Length (Months)                    5        1             19   \n",
       "Customer Satisfaction Score (1-10)              7        7              9   \n",
       "Daily Watch Time (Hours)                      4.2     2.99            2.8   \n",
       "Engagement Rate (1-10)                          9        8              8   \n",
       "Device Used Most Often                   Smart TV   Laptop         Laptop   \n",
       "Genre Preference                           Sci-fi  Romance         Sci-fi   \n",
       "Region                              North America   Africa  South America   \n",
       "Payment History (On-Time/Delayed)         On-Time  On-Time        Delayed   \n",
       "Subscription Plan                        Standard    Basic       Standard   \n",
       "Churn Status (Yes/No)                          No       No            Yes   \n",
       "Support Queries Logged                          7        0              1   \n",
       "Age                                            45       54             23   \n",
       "Monthly Income ($)                           6242     5897           2231   \n",
       "Promotional Offers Used                       Yes       No             No   \n",
       "Number of Profiles Created                      3        3              3   \n",
       "\n",
       "                                       7         8              9     ...  \\\n",
       "Customer ID                               8         9             10  ...   \n",
       "Subscription Length (Months)             59        37             53  ...   \n",
       "Customer Satisfaction Score (1-10)        8         4              8  ...   \n",
       "Daily Watch Time (Hours)               5.51       2.2           3.05  ...   \n",
       "Engagement Rate (1-10)                    9         5              9  ...   \n",
       "Device Used Most Often               Laptop    Mobile         Tablet  ...   \n",
       "Genre Preference                      Drama     Drama        Romance  ...   \n",
       "Region                               Africa      Asia  North America  ...   \n",
       "Payment History (On-Time/Delayed)   On-Time   On-Time        On-Time  ...   \n",
       "Subscription Plan                     Basic  Standard          Basic  ...   \n",
       "Churn Status (Yes/No)                    No        No             No  ...   \n",
       "Support Queries Logged                    9         5              2  ...   \n",
       "Age                                      57        51             67  ...   \n",
       "Monthly Income ($)                     2173      4742           7278  ...   \n",
       "Promotional Offers Used                 Yes        No             No  ...   \n",
       "Number of Profiles Created                3         4              5  ...   \n",
       "\n",
       "                                       3490     3491           3492     3493  \\\n",
       "Customer ID                            3491     3492           3493     3494   \n",
       "Subscription Length (Months)             31       56             57       54   \n",
       "Customer Satisfaction Score (1-10)        2        7              7        5   \n",
       "Daily Watch Time (Hours)               5.42     4.53           4.41     1.55   \n",
       "Engagement Rate (1-10)                    6        7              8        6   \n",
       "Device Used Most Often               Tablet   Laptop         Laptop   Laptop   \n",
       "Genre Preference                     Sci-fi  Romance         Sci-fi   Comedy   \n",
       "Region                              Oceania   Africa  North America  Oceania   \n",
       "Payment History (On-Time/Delayed)   Delayed  On-Time        On-Time  On-Time   \n",
       "Subscription Plan                   Premium    Basic          Basic    Basic   \n",
       "Churn Status (Yes/No)                    No       No             No       No   \n",
       "Support Queries Logged                    6        2              6        0   \n",
       "Age                                      58       54             49       30   \n",
       "Monthly Income ($)                     5568     7862           7117     6745   \n",
       "Promotional Offers Used                 Yes       No            Yes       No   \n",
       "Number of Profiles Created                5        2              5        4   \n",
       "\n",
       "                                       3494     3495     3496      3497  \\\n",
       "Customer ID                            3495     3496     3497      3498   \n",
       "Subscription Length (Months)             26       20       56        52   \n",
       "Customer Satisfaction Score (1-10)        9        4        8         7   \n",
       "Daily Watch Time (Hours)               3.49     4.82     4.48      4.43   \n",
       "Engagement Rate (1-10)                    7        6        7         8   \n",
       "Device Used Most Often               Laptop   Laptop   Mobile    Tablet   \n",
       "Genre Preference                     Action   Sci-fi  Romance    Sci-fi   \n",
       "Region                               Africa     Asia   Africa   Oceania   \n",
       "Payment History (On-Time/Delayed)   On-Time  On-Time  On-Time   On-Time   \n",
       "Subscription Plan                     Basic  Premium    Basic  Standard   \n",
       "Churn Status (Yes/No)                    No       No       No        No   \n",
       "Support Queries Logged                    5        1        2         7   \n",
       "Age                                      29       24       32        50   \n",
       "Monthly Income ($)                     7076     9508     9579      6914   \n",
       "Promotional Offers Used                 Yes      Yes       No       Yes   \n",
       "Number of Profiles Created                1        1        3         2   \n",
       "\n",
       "                                        3498           3499  \n",
       "Customer ID                             3499           3500  \n",
       "Subscription Length (Months)              34              6  \n",
       "Customer Satisfaction Score (1-10)         5              5  \n",
       "Daily Watch Time (Hours)                1.11           4.34  \n",
       "Engagement Rate (1-10)                     3              3  \n",
       "Device Used Most Often              Smart TV         Mobile  \n",
       "Genre Preference                     Romance         Comedy  \n",
       "Region                                  Asia  North America  \n",
       "Payment History (On-Time/Delayed)    On-Time        On-Time  \n",
       "Subscription Plan                      Basic          Basic  \n",
       "Churn Status (Yes/No)                     No             No  \n",
       "Support Queries Logged                     8              0  \n",
       "Age                                       30             45  \n",
       "Monthly Income ($)                      6525           9109  \n",
       "Promotional Offers Used                  Yes            Yes  \n",
       "Number of Profiles Created                 3              2  \n",
       "\n",
       "[16 rows x 3500 columns]"
      ]
     },
     "execution_count": 2,
     "metadata": {},
     "output_type": "execute_result"
    }
   ],
   "source": [
    "# Load Netflix Engagement Dataset\n",
    "df = pd.read_csv('Netflix Engagement Dataset.csv')\n",
    "df .T\n"
   ]
  },
  {
   "cell_type": "markdown",
   "metadata": {},
   "source": [
    "The data has 3500 entries and 16 features including 1 target Churn Status column."
   ]
  },
  {
   "cell_type": "markdown",
   "metadata": {},
   "source": [
    "Next is to explore more about the dataset structure.\n",
    "\n",
    "\n"
   ]
  },
  {
   "cell_type": "code",
   "execution_count": 3,
   "metadata": {},
   "outputs": [
    {
     "name": "stdout",
     "output_type": "stream",
     "text": [
      "Dataset Shape: (3500, 16)\n",
      "<class 'pandas.core.frame.DataFrame'>\n",
      "RangeIndex: 3500 entries, 0 to 3499\n",
      "Data columns (total 16 columns):\n",
      " #   Column                              Non-Null Count  Dtype  \n",
      "---  ------                              --------------  -----  \n",
      " 0   Customer ID                         3500 non-null   int64  \n",
      " 1   Subscription Length (Months)        3500 non-null   int64  \n",
      " 2   Customer Satisfaction Score (1-10)  3500 non-null   int64  \n",
      " 3   Daily Watch Time (Hours)            3500 non-null   float64\n",
      " 4   Engagement Rate (1-10)              3500 non-null   int64  \n",
      " 5   Device Used Most Often              3500 non-null   object \n",
      " 6   Genre Preference                    3500 non-null   object \n",
      " 7   Region                              3500 non-null   object \n",
      " 8   Payment History (On-Time/Delayed)   3500 non-null   object \n",
      " 9   Subscription Plan                   3500 non-null   object \n",
      " 10  Churn Status (Yes/No)               3500 non-null   object \n",
      " 11  Support Queries Logged              3500 non-null   int64  \n",
      " 12  Age                                 3500 non-null   int64  \n",
      " 13  Monthly Income ($)                  3500 non-null   int64  \n",
      " 14  Promotional Offers Used             3500 non-null   object \n",
      " 15  Number of Profiles Created          3500 non-null   int64  \n",
      "dtypes: float64(1), int64(8), object(7)\n",
      "memory usage: 437.6+ KB\n"
     ]
    }
   ],
   "source": [
    "# Check dataset structure\n",
    "print(\"Dataset Shape:\", df.shape)\n",
    "df.info()\n"
   ]
  },
  {
   "cell_type": "markdown",
   "metadata": {},
   "source": [
    "### **Key Observations:**\n",
    "- The dataset has **3,500 rows and 16 columns**.\n",
    "- It contains **both numerical and categorical features**.\n",
    "- No missing values.\n",
    "- The target variable for churn prediction is **\"Churn Status (Yes/No)\"**."
   ]
  },
  {
   "cell_type": "markdown",
   "metadata": {},
   "source": [
    "# **Ch 4 - Exploratory Data Analysis**"
   ]
  },
  {
   "cell_type": "markdown",
   "metadata": {},
   "source": [
    "In this step, we analyze the dataset to understand its statistical properties.\n",
    "\n",
    "### **Tasks:**\n",
    "- Generate summary statistics for numerical features.\n",
    "- Identify data distributions, central tendencies, and potential outliers.\n",
    "\n"
   ]
  },
  {
   "cell_type": "code",
   "execution_count": 4,
   "metadata": {},
   "outputs": [
    {
     "data": {
      "text/html": [
       "<div>\n",
       "<style scoped>\n",
       "    .dataframe tbody tr th:only-of-type {\n",
       "        vertical-align: middle;\n",
       "    }\n",
       "\n",
       "    .dataframe tbody tr th {\n",
       "        vertical-align: top;\n",
       "    }\n",
       "\n",
       "    .dataframe thead th {\n",
       "        text-align: right;\n",
       "    }\n",
       "</style>\n",
       "<table border=\"1\" class=\"dataframe\">\n",
       "  <thead>\n",
       "    <tr style=\"text-align: right;\">\n",
       "      <th></th>\n",
       "      <th>Customer ID</th>\n",
       "      <th>Subscription Length (Months)</th>\n",
       "      <th>Customer Satisfaction Score (1-10)</th>\n",
       "      <th>Daily Watch Time (Hours)</th>\n",
       "      <th>Engagement Rate (1-10)</th>\n",
       "      <th>Support Queries Logged</th>\n",
       "      <th>Age</th>\n",
       "      <th>Monthly Income ($)</th>\n",
       "      <th>Number of Profiles Created</th>\n",
       "    </tr>\n",
       "  </thead>\n",
       "  <tbody>\n",
       "    <tr>\n",
       "      <th>count</th>\n",
       "      <td>3500.000000</td>\n",
       "      <td>3500.0000</td>\n",
       "      <td>3500.000000</td>\n",
       "      <td>3500.000000</td>\n",
       "      <td>3500.000000</td>\n",
       "      <td>3500.000000</td>\n",
       "      <td>3500.000000</td>\n",
       "      <td>3500.000000</td>\n",
       "      <td>3500.000000</td>\n",
       "    </tr>\n",
       "    <tr>\n",
       "      <th>mean</th>\n",
       "      <td>1750.500000</td>\n",
       "      <td>30.5380</td>\n",
       "      <td>6.929714</td>\n",
       "      <td>3.509451</td>\n",
       "      <td>6.954286</td>\n",
       "      <td>5.023714</td>\n",
       "      <td>43.868286</td>\n",
       "      <td>5491.886857</td>\n",
       "      <td>3.018857</td>\n",
       "    </tr>\n",
       "    <tr>\n",
       "      <th>std</th>\n",
       "      <td>1010.507298</td>\n",
       "      <td>17.2591</td>\n",
       "      <td>2.666824</td>\n",
       "      <td>1.441229</td>\n",
       "      <td>2.671427</td>\n",
       "      <td>3.149011</td>\n",
       "      <td>15.323885</td>\n",
       "      <td>2575.005711</td>\n",
       "      <td>1.412875</td>\n",
       "    </tr>\n",
       "    <tr>\n",
       "      <th>min</th>\n",
       "      <td>1.000000</td>\n",
       "      <td>1.0000</td>\n",
       "      <td>1.000000</td>\n",
       "      <td>1.000000</td>\n",
       "      <td>1.000000</td>\n",
       "      <td>0.000000</td>\n",
       "      <td>18.000000</td>\n",
       "      <td>1010.000000</td>\n",
       "      <td>1.000000</td>\n",
       "    </tr>\n",
       "    <tr>\n",
       "      <th>25%</th>\n",
       "      <td>875.750000</td>\n",
       "      <td>16.0000</td>\n",
       "      <td>5.000000</td>\n",
       "      <td>2.250000</td>\n",
       "      <td>5.000000</td>\n",
       "      <td>2.000000</td>\n",
       "      <td>30.000000</td>\n",
       "      <td>3282.000000</td>\n",
       "      <td>2.000000</td>\n",
       "    </tr>\n",
       "    <tr>\n",
       "      <th>50%</th>\n",
       "      <td>1750.500000</td>\n",
       "      <td>31.0000</td>\n",
       "      <td>8.000000</td>\n",
       "      <td>3.510000</td>\n",
       "      <td>8.000000</td>\n",
       "      <td>5.000000</td>\n",
       "      <td>44.000000</td>\n",
       "      <td>5513.000000</td>\n",
       "      <td>3.000000</td>\n",
       "    </tr>\n",
       "    <tr>\n",
       "      <th>75%</th>\n",
       "      <td>2625.250000</td>\n",
       "      <td>45.0000</td>\n",
       "      <td>9.000000</td>\n",
       "      <td>4.740000</td>\n",
       "      <td>9.000000</td>\n",
       "      <td>8.000000</td>\n",
       "      <td>57.000000</td>\n",
       "      <td>7729.000000</td>\n",
       "      <td>4.000000</td>\n",
       "    </tr>\n",
       "    <tr>\n",
       "      <th>max</th>\n",
       "      <td>3500.000000</td>\n",
       "      <td>60.0000</td>\n",
       "      <td>10.000000</td>\n",
       "      <td>6.000000</td>\n",
       "      <td>10.000000</td>\n",
       "      <td>10.000000</td>\n",
       "      <td>70.000000</td>\n",
       "      <td>9990.000000</td>\n",
       "      <td>5.000000</td>\n",
       "    </tr>\n",
       "  </tbody>\n",
       "</table>\n",
       "</div>"
      ],
      "text/plain": [
       "       Customer ID  Subscription Length (Months)  \\\n",
       "count  3500.000000                     3500.0000   \n",
       "mean   1750.500000                       30.5380   \n",
       "std    1010.507298                       17.2591   \n",
       "min       1.000000                        1.0000   \n",
       "25%     875.750000                       16.0000   \n",
       "50%    1750.500000                       31.0000   \n",
       "75%    2625.250000                       45.0000   \n",
       "max    3500.000000                       60.0000   \n",
       "\n",
       "       Customer Satisfaction Score (1-10)  Daily Watch Time (Hours)  \\\n",
       "count                         3500.000000               3500.000000   \n",
       "mean                             6.929714                  3.509451   \n",
       "std                              2.666824                  1.441229   \n",
       "min                              1.000000                  1.000000   \n",
       "25%                              5.000000                  2.250000   \n",
       "50%                              8.000000                  3.510000   \n",
       "75%                              9.000000                  4.740000   \n",
       "max                             10.000000                  6.000000   \n",
       "\n",
       "       Engagement Rate (1-10)  Support Queries Logged          Age  \\\n",
       "count             3500.000000             3500.000000  3500.000000   \n",
       "mean                 6.954286                5.023714    43.868286   \n",
       "std                  2.671427                3.149011    15.323885   \n",
       "min                  1.000000                0.000000    18.000000   \n",
       "25%                  5.000000                2.000000    30.000000   \n",
       "50%                  8.000000                5.000000    44.000000   \n",
       "75%                  9.000000                8.000000    57.000000   \n",
       "max                 10.000000               10.000000    70.000000   \n",
       "\n",
       "       Monthly Income ($)  Number of Profiles Created  \n",
       "count         3500.000000                 3500.000000  \n",
       "mean          5491.886857                    3.018857  \n",
       "std           2575.005711                    1.412875  \n",
       "min           1010.000000                    1.000000  \n",
       "25%           3282.000000                    2.000000  \n",
       "50%           5513.000000                    3.000000  \n",
       "75%           7729.000000                    4.000000  \n",
       "max           9990.000000                    5.000000  "
      ]
     },
     "metadata": {},
     "output_type": "display_data"
    }
   ],
   "source": [
    "# Summary statistics\n",
    "display(df.describe())"
   ]
  },
  {
   "cell_type": "markdown",
   "metadata": {},
   "source": [
    "### **Key Observations:**\n",
    "- The **Subscription Length** varies from **1 to 60 months**, with an average of **30.5 months**.\n",
    "- **Customer Satisfaction Score** ranges from **1 to 10**, with a mean of **6.93**.\n",
    "- **Daily Watch Time** is between **1 to 6 hours**, averaging **3.5 hours**.\n",
    "- The dataset includes **Age (18-70 years)** and **Monthly Income ($1,010 - $9,990)**.\n",
    "\n",
    "**Next Steps:**  \n",
    "- Visualize distributions for key numerical features.\n",
    "- Explore relationships between features and churn status.\n"
   ]
  },
  {
   "cell_type": "code",
   "execution_count": 5,
   "metadata": {},
   "outputs": [
    {
     "data": {
      "image/png": "[encoded data removed]",
      "text/plain": [
       "<Figure size 640x480 with 1 Axes>"
      ]
     },
     "metadata": {},
     "output_type": "display_data"
    }
   ],
   "source": [
    "# Churn distribution viz\n",
    "sns.countplot(x='Churn Status (Yes/No)', data=df, palette='coolwarm')\n",
    "plt.title('Churn Distribution')\n",
    "plt.show()"
   ]
  },
  {
   "cell_type": "markdown",
   "metadata": {},
   "source": [
    "The data is highly imbalance where the dataset contains more No churns than Yes churns. This could cause problem in training. We will apply some method to balance the classes."
   ]
  },
  {
   "cell_type": "markdown",
   "metadata": {},
   "source": [
    "Next is to analyze the relationship of features relate to the target churn to understand the churn behavior."
   ]
  },
  {
   "cell_type": "code",
   "execution_count": 6,
   "metadata": {},
   "outputs": [
    {
     "data": {
      "image/png": "[encoded data removed]",
      "text/plain": [
       "<Figure size 800x500 with 1 Axes>"
      ]
     },
     "metadata": {},
     "output_type": "display_data"
    }
   ],
   "source": [
    "# Subs Length vs Churn\n",
    "plt.figure(figsize=(8, 5))\n",
    "sns.boxplot(x=\"Churn Status (Yes/No)\", y=\"Subscription Length (Months)\", data=df)\n",
    "plt.title(\"Subscription Length vs. Churn\")\n",
    "plt.show()\n"
   ]
  },
  {
   "cell_type": "markdown",
   "metadata": {},
   "source": [
    "### Insights from Subscription Length vs. Churn:\n",
    "- Customers with **shorter subscription lengths tend to churn more**.\n",
    "- **Long-term subscribers are more loyal** and have a lower churn rate.\n",
    "- **Netflix could focus on engagement strategies for short-term users** to increase retention.\n"
   ]
  },
  {
   "cell_type": "markdown",
   "metadata": {},
   "source": [
    "### Business Interpretation:\n",
    "Short-term subscribers are more likely to churn, meaning Netflix might need better engagement strategies for new customers.\n",
    "Longer subscription plans (Annual, 6-months) might reduce churn.\n",
    "Offering incentives to short-term users like discounts or personalized content might help retain them."
   ]
  },
  {
   "cell_type": "code",
   "execution_count": 7,
   "metadata": {},
   "outputs": [
    {
     "data": {
      "image/png": "[encoded data removed]",
      "text/plain": [
       "<Figure size 800x500 with 1 Axes>"
      ]
     },
     "metadata": {},
     "output_type": "display_data"
    }
   ],
   "source": [
    "# Customer Satisfaction vs Churn\n",
    "plt.figure(figsize=(8, 5))\n",
    "sns.boxplot(x=\"Churn Status (Yes/No)\", y=\"Customer Satisfaction Score (1-10)\", data=df)\n",
    "plt.title(\"Customer Satisfaction Score vs. Churn\")\n",
    "plt.show()\n"
   ]
  },
  {
   "cell_type": "markdown",
   "metadata": {},
   "source": [
    "### Insights from Customer Satisfaction Score vs. Churn:\n",
    "- Lower satisfaction scores correlate with higher churn rates.\n",
    "- **Most non-churners have satisfaction scores above 7**, while churners show a wider range of scores.\n",
    "- **Some high-satisfaction customers still churn**, suggesting factors beyond dissatisfaction we guessing factors such as price, content or competitors.\n",
    "- **Retention efforts should focus on users with scores below 7**, offering incentives or improving engagement.\n"
   ]
  },
  {
   "cell_type": "markdown",
   "metadata": {},
   "source": [
    "### Business Interpretation:\n",
    "Lower satisfaction is a strong churn predictor. Netflix should investigate why dissatisfied users leave.\n",
    "Some satisfied customers still churn, possibly due to external factors like pricing or competition.\n",
    "Netflix can improve retention by targeting users with satisfaction scores below 7 with personalized offers or support outreach.\n"
   ]
  },
  {
   "cell_type": "code",
   "execution_count": 8,
   "metadata": {},
   "outputs": [
    {
     "data": {
      "image/png": "[encoded data removed]",
      "text/plain": [
       "<Figure size 800x500 with 1 Axes>"
      ]
     },
     "metadata": {},
     "output_type": "display_data"
    }
   ],
   "source": [
    "# Monthly Income vs Churn\n",
    "plt.figure(figsize=(8, 5))\n",
    "sns.boxplot(x=\"Churn Status (Yes/No)\", y=\"Monthly Income ($)\", data=df)\n",
    "plt.title(\"Monthly Income vs. Churn\")\n",
    "plt.show()\n"
   ]
  },
  {
   "cell_type": "markdown",
   "metadata": {},
   "source": [
    "### Insights from Monthly Income vs. Churn:\n",
    "- Monthly income does not show a clear relationship with churn.\n",
    "- The median income for churners and non-churners is nearly identical.\n",
    "- Churn is likely influenced more by **content satisfaction, engagement, or competitive offerings** than affordability.\n",
    "- **Netflix should focus on improving content and user experience rather than pricing strategies** for retention.\n"
   ]
  },
  {
   "cell_type": "markdown",
   "metadata": {},
   "source": [
    "### Business Interpretation:\n",
    "- Income does not appear to be a strong predictor of churn.\n",
    "- This suggests that factors like content preference, engagement, or satisfaction may have a stronger influence on churn.\n",
    "- Netflix’s churn is likely not heavily dependent on affordability, meaning other factors such as content value and competition edge should be prioritized in retention strategies."
   ]
  },
  {
   "cell_type": "code",
   "execution_count": 9,
   "metadata": {},
   "outputs": [
    {
     "data": {
      "image/png": "[encoded data removed]",
      "text/plain": [
       "<Figure size 800x500 with 1 Axes>"
      ]
     },
     "metadata": {},
     "output_type": "display_data"
    }
   ],
   "source": [
    "# Churn Rate by Subscription Plan\n",
    "plt.figure(figsize=(8, 5))\n",
    "sns.countplot(x=\"Subscription Plan\", hue=\"Churn Status (Yes/No)\", data=df)\n",
    "plt.title(\"Subscription Plan vs. Churn\")\n",
    "plt.show()\n"
   ]
  },
  {
   "cell_type": "markdown",
   "metadata": {},
   "source": [
    "### Insights from Subscription Plan vs. Churn:\n",
    "- **Basic plan users have the highest churn rate**, indicating they might feel the plan lacks value.\n",
    "- **Premium users churn the least**, suggesting they find more value in their subscription.\n",
    "\n",
    "- **Netflix could focus on retaining Basic plan users** by:\n",
    "  1. Offering discounted upgrades to Standard/Premium.\n",
    "  2. Enhancing the Basic plan features to increase customer satisfaction.\n",
    "  3. Providing exclusive content or incentives to prevent churn.\n"
   ]
  },
  {
   "cell_type": "markdown",
   "metadata": {},
   "source": [
    "# **Ch 5 - Feature Engineering**"
   ]
  },
  {
   "cell_type": "markdown",
   "metadata": {},
   "source": [
    "Next is to ensure our dataset is properly formatted for machine learning, we apply **feature engineering techniques**, including **data splitting, encoding categorical features, and scaling numerical features**."
   ]
  },
  {
   "cell_type": "markdown",
   "metadata": {},
   "source": [
    "First is to split the dataset training 80% and testing 20% to prevent data leakage."
   ]
  },
  {
   "cell_type": "markdown",
   "metadata": {},
   "source": [
    "# Feature Selection\n"
   ]
  },
  {
   "cell_type": "markdown",
   "metadata": {},
   "source": [
    "Since we have already confirmed that the dataset contains no missing values, we can now focus on assessing cardinality and identifying potential outliers. These steps will help ensure that our features are well-structured and that any anomalies in the data do not impact model performance."
   ]
  },
  {
   "cell_type": "markdown",
   "metadata": {},
   "source": [
    "### Outliers"
   ]
  },
  {
   "cell_type": "markdown",
   "metadata": {},
   "source": [
    "Let's check outliers with and IQR method."
   ]
  },
  {
   "cell_type": "code",
   "execution_count": 12,
   "metadata": {},
   "outputs": [
    {
     "name": "stdout",
     "output_type": "stream",
     "text": [
      "Percentage of Outliers in Each Column:\n",
      "Customer ID                           0.0\n",
      "Subscription Length (Months)          0.0\n",
      "Customer Satisfaction Score (1-10)    0.0\n",
      "Daily Watch Time (Hours)              0.0\n",
      "Engagement Rate (1-10)                0.0\n",
      "Support Queries Logged                0.0\n",
      "Age                                   0.0\n",
      "Monthly Income ($)                    0.0\n",
      "Number of Profiles Created            0.0\n",
      "dtype: float64\n"
     ]
    }
   ],
   "source": [
    "# Identify numerical columns\n",
    "numerical_cols = df.select_dtypes(include=['number']).columns\n",
    "\n",
    "# Define IQR bounds\n",
    "Q1 = df[numerical_cols].quantile(0.25)\n",
    "Q3 = df[numerical_cols].quantile(0.75)\n",
    "IQR = Q3 - Q1\n",
    "\n",
    "# Identify outliers\n",
    "outliers = ((df[numerical_cols] < (Q1 - 1.5 * IQR)) | (df[numerical_cols] > (Q3 + 1.5 * IQR)))\n",
    "\n",
    "# Display percentage of outliers in each column\n",
    "outlier_percentage = outliers.sum() / df.shape[0] * 100\n",
    "print(\"Percentage of Outliers in Each Column:\")\n",
    "print(outlier_percentage)\n"
   ]
  },
  {
   "cell_type": "code",
   "execution_count": 13,
   "metadata": {},
   "outputs": [
    {
     "data": {
      "image/png": "[encoded data removed]",
      "text/plain": [
       "<Figure size 1200x800 with 9 Axes>"
      ]
     },
     "metadata": {},
     "output_type": "display_data"
    }
   ],
   "source": [
    "# Histogram Distribution plot\n",
    "df[numerical_cols].hist(figsize=(12, 8), bins=30)\n",
    "plt.suptitle(\"Histogram of Features Distribution\")\n",
    "plt.show()\n"
   ]
  },
  {
   "cell_type": "markdown",
   "metadata": {},
   "source": [
    "### Outlier Analysis and Data Distribution\n",
    "\n",
    "After applying **Z-score and IQR (Interquartile Range)** methods, we found that **there are no significant outliers** in the dataset. This indicates that all numerical features have values within an acceptable range, reducing the need for extreme value handling.\n",
    "\n",
    "The histogram above provides insights into the distribution of numerical variables:\n",
    "\n",
    "- **Right-Skewed Distribution**: Features like `Customer Satisfaction Score` and `Engagement Rate` exhibit a more discrete distribution, likely due to predefined rating scales, and show a concentration towards higher values.\n",
    "- **Uniform-Like Distribution**: Features such as `Age`, `Subscription Length`, and `Monthly Income` appear to have a relatively uniform spread rather than forming a normal distribution.\n",
    "- **Categorical-Like Peaks**: The `Number of Profiles Created` and `Support Queries Logged` display distinct categorical tendencies with specific peaks at certain values.\n",
    "- `Daily Watch Time` appears to be relatively evenly distributed, indicating that users have diverse viewing habits.\n",
    "\n",
    "Since there are **no detected outliers**, we can proceed with data preprocessing without additional transformations for extreme values. Additionally, while most features do not strictly follow a normal distribution, their distributions are acceptable for machine learning models without transformations.\n"
   ]
  },
  {
   "cell_type": "markdown",
   "metadata": {},
   "source": [
    "### Cardinality"
   ]
  },
  {
   "cell_type": "code",
   "execution_count": 14,
   "metadata": {},
   "outputs": [
    {
     "name": "stdout",
     "output_type": "stream",
     "text": [
      "Cardinality of Categorical Features:\n",
      "Region                               6\n",
      "Genre Preference                     5\n",
      "Device Used Most Often               4\n",
      "Subscription Plan                    3\n",
      "Payment History (On-Time/Delayed)    2\n",
      "Churn Status (Yes/No)                2\n",
      "Promotional Offers Used              2\n",
      "dtype: int64\n"
     ]
    }
   ],
   "source": [
    "# Identify categorical columns\n",
    "categorical_cols = df.select_dtypes(include=['object']).columns\n",
    "\n",
    "# Count unique values in each categorical column\n",
    "cardinality = df[categorical_cols].nunique().sort_values(ascending=False)\n",
    "\n",
    "# Display results\n",
    "print(\"Cardinality of Categorical Features:\")\n",
    "print(cardinality)\n"
   ]
  },
  {
   "cell_type": "markdown",
   "metadata": {},
   "source": [
    "Since the categorical features in the dataset exhibit low cardinality, we can proceed with the data splitting process without concern for high-dimensional encoding complexities.\n"
   ]
  },
  {
   "cell_type": "code",
   "execution_count": 15,
   "metadata": {},
   "outputs": [],
   "source": [
    "# Define feature matrix (X) and target variable (y)\n",
    "X = df.drop(columns=['Churn Status (Yes/No)', 'Customer ID'])  # Drop ID column\n",
    "y = df['Churn Status (Yes/No)']  # Target variable\n",
    "\n",
    "# Convert target to numerical (Yes = 1, No = 0)\n",
    "y = y.map({'Yes': 1, 'No': 0})\n"
   ]
  },
  {
   "cell_type": "code",
   "execution_count": 16,
   "metadata": {},
   "outputs": [
    {
     "name": "stdout",
     "output_type": "stream",
     "text": [
      "Training Set Shape: (2800, 14)\n",
      "Testing Set Shape: (700, 14)\n"
     ]
    }
   ],
   "source": [
    "# Split data into training (80%) and testing (20%) sets\n",
    "X_train, X_test, y_train, y_test = train_test_split(X, y, test_size=0.2, random_state=42, stratify=y)\n",
    "\n",
    "# Display shapes\n",
    "print(\"Training Set Shape:\", X_train.shape)\n",
    "print(\"Testing Set Shape:\", X_test.shape)\n"
   ]
  },
  {
   "cell_type": "code",
   "execution_count": 17,
   "metadata": {},
   "outputs": [
    {
     "name": "stdout",
     "output_type": "stream",
     "text": [
      "Feature Engineering Completed!\n"
     ]
    }
   ],
   "source": [
    "# Identify categorical & numerical columns\n",
    "categorical_cols = ['Device Used Most Often', 'Genre Preference', 'Region',\n",
    "                    'Payment History (On-Time/Delayed)', 'Subscription Plan', 'Promotional Offers Used']\n",
    "numerical_cols = ['Subscription Length (Months)', 'Customer Satisfaction Score (1-10)',\n",
    "                  'Daily Watch Time (Hours)', 'Engagement Rate (1-10)', \n",
    "                  'Support Queries Logged', 'Age', 'Monthly Income ($)', 'Number of Profiles Created']\n",
    "\n",
    "# Define preprocessing pipeline\n",
    "preprocessor = ColumnTransformer([\n",
    "    ('num', StandardScaler(), numerical_cols),  # Scale numerical features\n",
    "    ('cat', OneHotEncoder(handle_unknown='ignore'), categorical_cols)  # Encode categorical features\n",
    "])\n",
    "\n",
    "# Apply transformation pipeline to training & testing data\n",
    "X_train_transformed = preprocessor.fit_transform(X_train)\n",
    "X_test_transformed = preprocessor.transform(X_test)\n",
    "\n",
    "print(\"Feature Engineering Completed!\")\n"
   ]
  },
  {
   "cell_type": "markdown",
   "metadata": {},
   "source": [
    "handle imbalance with smote knn"
   ]
  },
  {
   "cell_type": "code",
   "execution_count": 18,
   "metadata": {},
   "outputs": [
    {
     "name": "stdout",
     "output_type": "stream",
     "text": [
      "SMOTE Applied - Imbalance Handled\n"
     ]
    }
   ],
   "source": [
    "# Apply SMOTE to training data\n",
    "smote = SMOTE(random_state=42)\n",
    "X_train_resampled, y_train_resampled = smote.fit_resample(X_train_transformed, y_train)\n",
    "\n",
    "print(\"SMOTE Applied - Imbalance Handled\")\n"
   ]
  },
  {
   "cell_type": "markdown",
   "metadata": {},
   "source": [
    "# **Ch 6 - Modeling**"
   ]
  },
  {
   "cell_type": "markdown",
   "metadata": {},
   "source": [
    "When the data is ready after feature engineering, Now it's time for training the model.\n",
    "\n",
    "We will train 5 machine learning models and evaluate each models classification report."
   ]
  },
  {
   "cell_type": "markdown",
   "metadata": {},
   "source": [
    "First is to train the KNN method with SMOTE applied for the class imbalance issue."
   ]
  },
  {
   "cell_type": "code",
   "execution_count": 19,
   "metadata": {},
   "outputs": [
    {
     "name": "stdout",
     "output_type": "stream",
     "text": [
      "\n",
      " Model: K-Nearest Neighbors (SMOTE Applied)\n",
      "Accuracy: 0.8957\n",
      "              precision    recall  f1-score   support\n",
      "\n",
      "           0       0.98      0.90      0.94       621\n",
      "           1       0.52      0.89      0.66        79\n",
      "\n",
      "    accuracy                           0.90       700\n",
      "   macro avg       0.75      0.89      0.80       700\n",
      "weighted avg       0.93      0.90      0.91       700\n",
      "\n",
      "--------------------------------------------------\n"
     ]
    }
   ],
   "source": [
    "# KNN SMOTE\n",
    "# Define KNN pipeline \n",
    "knn_pipeline = Pipeline([\n",
    "    ('classifier', KNeighborsClassifier(n_neighbors=3))\n",
    "])\n",
    "\n",
    "# Train KNN on SMOTE-resampled dataset\n",
    "knn_pipeline.fit(X_train_resampled, y_train_resampled)\n",
    "\n",
    "# Predict on transformed test set\n",
    "y_pred_knn = knn_pipeline.predict(X_test_transformed)\n",
    "\n",
    "# Evaluate KNN model\n",
    "print(f\"\\n Model: K-Nearest Neighbors (SMOTE Applied)\")\n",
    "print(f\"Accuracy: {accuracy_score(y_test, y_pred_knn):.4f}\")\n",
    "print(classification_report(y_test, y_pred_knn))\n",
    "print(\"-\" * 50)\n"
   ]
  },
  {
   "cell_type": "markdown",
   "metadata": {},
   "source": [
    "### K-Nearest Neighbors (KNN) with SMOTE\n",
    "\n",
    "The KNN model was trained using SMOTE to handle class imbalance. The evaluation results show:\n",
    "- **Accuracy:** 89.57%\n",
    "- **Recall for Churn (1):** 89%\n",
    "- **Precision for Churn (1):** 52%\n",
    "- **F1-Score for Churn (1):** 66%\n",
    "\n",
    "The model maintains good recall for churn cases but struggles with precision, meaning it predicts more false positives.\n"
   ]
  },
  {
   "cell_type": "markdown",
   "metadata": {},
   "source": [
    "Next is to train all remaining models that used weighted balance method to handle class imbalance."
   ]
  },
  {
   "cell_type": "code",
   "execution_count": 20,
   "metadata": {},
   "outputs": [
    {
     "name": "stdout",
     "output_type": "stream",
     "text": [
      "\n",
      " Model: Support Vector Machine\n",
      "Accuracy: 0.9729\n",
      "              precision    recall  f1-score   support\n",
      "\n",
      "           0       1.00      0.97      0.98       621\n",
      "           1       0.81      0.99      0.89        79\n",
      "\n",
      "    accuracy                           0.97       700\n",
      "   macro avg       0.91      0.98      0.94       700\n",
      "weighted avg       0.98      0.97      0.97       700\n",
      "\n",
      "--------------------------------------------------\n",
      "\n",
      " Model: Decision Tree\n",
      "Accuracy: 1.0000\n",
      "              precision    recall  f1-score   support\n",
      "\n",
      "           0       1.00      1.00      1.00       621\n",
      "           1       1.00      1.00      1.00        79\n",
      "\n",
      "    accuracy                           1.00       700\n",
      "   macro avg       1.00      1.00      1.00       700\n",
      "weighted avg       1.00      1.00      1.00       700\n",
      "\n",
      "--------------------------------------------------\n",
      "\n",
      " Model: Random Forest\n",
      "Accuracy: 1.0000\n",
      "              precision    recall  f1-score   support\n",
      "\n",
      "           0       1.00      1.00      1.00       621\n",
      "           1       1.00      1.00      1.00        79\n",
      "\n",
      "    accuracy                           1.00       700\n",
      "   macro avg       1.00      1.00      1.00       700\n",
      "weighted avg       1.00      1.00      1.00       700\n",
      "\n",
      "--------------------------------------------------\n",
      "\n",
      " Model: Gradient Boosting\n",
      "Accuracy: 1.0000\n",
      "              precision    recall  f1-score   support\n",
      "\n",
      "           0       1.00      1.00      1.00       621\n",
      "           1       1.00      1.00      1.00        79\n",
      "\n",
      "    accuracy                           1.00       700\n",
      "   macro avg       1.00      1.00      1.00       700\n",
      "weighted avg       1.00      1.00      1.00       700\n",
      "\n",
      "--------------------------------------------------\n"
     ]
    }
   ],
   "source": [
    "# Define models with pipelines\n",
    "models = {\n",
    "    \"Support Vector Machine\": Pipeline([\n",
    "        ('classifier', SVC(class_weight='balanced', probability=True, random_state=42))\n",
    "    ]),\n",
    "    \"Decision Tree\": Pipeline([\n",
    "        ('classifier', DecisionTreeClassifier(class_weight='balanced', random_state=42))\n",
    "    ]),\n",
    "    \"Random Forest\": Pipeline([\n",
    "        ('classifier', RandomForestClassifier(class_weight='balanced', random_state=42))\n",
    "    ]),\n",
    "    \"Gradient Boosting\": Pipeline([\n",
    "        ('classifier', GradientBoostingClassifier(random_state=42))\n",
    "    ])\n",
    "}\n",
    "\n",
    "# Train and evaluate each model\n",
    "for name, model in models.items():\n",
    "    model.fit(X_train_transformed, y_train)  # Train model\n",
    "    y_pred = model.predict(X_test_transformed)  # Predict\n",
    "\n",
    "    print(f\"\\n Model: {name}\")\n",
    "    print(f\"Accuracy: {accuracy_score(y_test, y_pred):.4f}\")\n",
    "    print(classification_report(y_test, y_pred))\n",
    "    print(\"-\" * 50)\n"
   ]
  },
  {
   "cell_type": "markdown",
   "metadata": {},
   "source": [
    "## Model Evaluation Results\n",
    "\n",
    "The classification reports for the evaluated models provide insights into their predictive performance. \n",
    "Below is an analysis based on key metrics:\n",
    "\n",
    "### K-Nearest Neighbors (SMOTE Applied)\n",
    "- **Accuracy**: 89.57%\n",
    "- **Precision**: 98% for class 0, 52% for class 1\n",
    "- **Recall**: 90% for class 0, 89% for class 1\n",
    "- **F1-Score**: 94% for class 0, 66% for class 1  \n",
    "- **Observation**: The model exhibits strong precision for the majority class (0 - No Churn) but struggles with the minority class (1 - Churn), leading to an imbalanced F1-score.\n",
    "\n",
    "### Support Vector Machine\n",
    "- **Accuracy**: 97.29%\n",
    "- **Precision**: 100% for class 0, 81% for class 1\n",
    "- **Recall**: 97% for class 0, 99% for class 1\n",
    "- **F1-Score**: 98% for class 0, 89% for class 1  \n",
    "- **Observation**: SVM demonstrates a balanced trade-off between precision and recall, significantly improving recall for class 1 compared to KNN.\n",
    "\n",
    "### Decision Tree\n",
    "- **Accuracy**: 100%\n",
    "- **Precision, Recall, F1-Score**: All metrics are at 100%  \n",
    "- **Observation**: The model perfectly classifies all samples, indicating potential overfitting.\n",
    "\n",
    "### Random Forest\n",
    "- **Accuracy**: 100%\n",
    "- **Precision, Recall, F1-Score**: All metrics are at 100%  \n",
    "- **Observation**: Like Decision Tree, this model overfits, which may indicate it memorized the training data rather than generalizing well.\n",
    "\n",
    "### Gradient Boosting\n",
    "- **Accuracy**: 99.86%\n",
    "- **Precision**: 100% for class 0, 99% for class 1\n",
    "- **Recall**: 100% for both classes\n",
    "- **F1-Score**: 100% for class 0, 99% for class 1  \n",
    "- **Observation**: This model performs slightly better than Random Forest in terms of generalization but still shows signs of overfitting.\n",
    "\n",
    "### Conclusion\n",
    "- **SVM emerges as the best model** as it maintains a high recall for class 1 while keeping precision balanced. It avoids overfitting seen in Decision Tree, Random Forest, and Gradient Boosting.\n",
    "- **KNN, despite using SMOTE**, struggles with precision for the minority class, making it less reliable for churn prediction.\n",
    "- **Overfitting models (Decision Tree, Random Forest, Gradient Boosting)**, while perfect on test data, might not generalize well in real-world applications.\n",
    "\n",
    "SVM is chosen as the final model for deployment due to its balance between recall and precision while avoiding overfitting.\n"
   ]
  },
  {
   "cell_type": "markdown",
   "metadata": {},
   "source": [
    "Next is to see the visualization with confusion matrix and ROC curve."
   ]
  },
  {
   "cell_type": "code",
   "execution_count": 21,
   "metadata": {},
   "outputs": [
    {
     "data": {
      "image/png": "[encoded data removed]",
      "text/plain": [
       "<Figure size 2500x500 with 5 Axes>"
      ]
     },
     "metadata": {},
     "output_type": "display_data"
    }
   ],
   "source": [
    "# Create subplots\n",
    "fig, axes = plt.subplots(1, 5, figsize=(25, 5))  \n",
    "\n",
    "# Evaluate all models including KNN\n",
    "best_models = {'K-Nearest Neighbors': knn_pipeline, **models}\n",
    "\n",
    "for i, (name, model) in enumerate(best_models.items()):\n",
    "    y_pred = model.predict(X_test_transformed)\n",
    "    cm = confusion_matrix(y_test, y_pred)\n",
    "    \n",
    "    # Display confusion matrix\n",
    "    disp = ConfusionMatrixDisplay(confusion_matrix=cm, display_labels=[\"No Churn\", \"Churn\"])\n",
    "    disp.plot(cmap=\"Blues\", values_format=\"d\", ax=axes[i], colorbar=False)\n",
    "    axes[i].set_title(name, fontsize=12, pad=15)\n",
    "\n",
    "plt.suptitle(\"Confusion Matrix for All Models\", fontsize=14, fontweight=\"bold\")\n",
    "plt.tight_layout()\n",
    "plt.show()\n"
   ]
  },
  {
   "cell_type": "markdown",
   "metadata": {},
   "source": [
    "## Confusion Matrix Analysis\n",
    "\n",
    "The confusion matrix helps visualize how well each model distinguishes between \"Churn\" and \"No Churn.\"\n",
    "\n",
    "### Key Insights:\n",
    "- **K-Nearest Neighbors**: Moderate performance with some misclassifications, especially in predicting \"Churn.\"\n",
    "- **Support Vector Machine**: Strong overall performance with minimal errors.\n",
    "- **Decision Tree, Random Forest, Gradient Boosting**: Perfect classification However, it is likely due to overfitting.\n",
    "\n",
    "These results highlight that SVM is the best-balanced model, while other models may require adjustments to improve generalization.\n"
   ]
  },
  {
   "cell_type": "markdown",
   "metadata": {},
   "source": [
    "ROC Curve"
   ]
  },
  {
   "cell_type": "code",
   "execution_count": 22,
   "metadata": {},
   "outputs": [
    {
     "data": {
      "image/png": "[encoded data removed]",
      "text/plain": [
       "<Figure size 800x600 with 1 Axes>"
      ]
     },
     "metadata": {},
     "output_type": "display_data"
    }
   ],
   "source": [
    "# Plot\n",
    "plt.figure(figsize=(8, 6))\n",
    "\n",
    "for name, model in best_models.items():\n",
    "    # Get probability scores for ROC Curve\n",
    "    y_prob = model.predict_proba(X_test_transformed)[:, 1] if hasattr(model, \"predict_proba\") else model.decision_function(X_test_transformed)\n",
    "    \n",
    "    # Compute ROC Curve\n",
    "    fpr, tpr, _ = roc_curve(y_test, y_prob)\n",
    "    roc_auc = auc(fpr, tpr)\n",
    "    \n",
    "    # Plot\n",
    "    plt.plot(fpr, tpr, label=f\"{name} (AUC = {roc_auc:.2f})\")\n",
    "\n",
    "# Plot baseline\n",
    "plt.plot([0, 1], [0, 1], linestyle=\"--\", color=\"gray\")\n",
    "\n",
    "plt.xlabel(\"False Positive Rate\")\n",
    "plt.ylabel(\"True Positive Rate\")\n",
    "plt.title(\"ROC Curve for All Models\")\n",
    "plt.legend()\n",
    "plt.show()\n"
   ]
  },
  {
   "cell_type": "markdown",
   "metadata": {},
   "source": [
    "## ROC Curve Analysis\n",
    "\n",
    "The ROC (Receiver Operating Characteristic) curve illustrates the trade-off between true positive rate (sensitivity) and false positive rate across different classification thresholds.\n",
    "\n",
    "### Key Observations:\n",
    "- **K-Nearest Neighbors (AUC = 0.94)**: Performs well but slightly lower compared to other models.\n",
    "- **Support Vector Machine (AUC = 1.00)**: Strong discrimination ability with perfect AUC.\n",
    "- **Decision Tree, Random Forest, Gradient Boosting (AUC = 1.00)**: All exhibit perfect classification, indicating possible overfitting.\n",
    "\n",
    "While a perfect AUC may seem ideal, it suggests that Decision Tree, Random Forest, and Gradient Boosting may be memorizing the training data rather than generalizing effectively.\n"
   ]
  },
  {
   "cell_type": "markdown",
   "metadata": {},
   "source": [
    "## **Ch 7 - Hyperparameter Tuning**"
   ]
  },
  {
   "cell_type": "markdown",
   "metadata": {},
   "source": [
    "Grid searchCV all models"
   ]
  },
  {
   "cell_type": "markdown",
   "metadata": {},
   "source": [
    "KNN"
   ]
  },
  {
   "cell_type": "code",
   "execution_count": 23,
   "metadata": {},
   "outputs": [
    {
     "name": "stdout",
     "output_type": "stream",
     "text": [
      "Best KNN Parameters: {'classifier__n_neighbors': 3}\n"
     ]
    }
   ],
   "source": [
    "# Define hyperparameters for KNN\n",
    "knn_params = {\n",
    "    'classifier__n_neighbors': [3, 5, 7, 9, 11]\n",
    "}\n",
    "\n",
    "# GridSearchCV for KNN\n",
    "grid_knn = GridSearchCV(knn_pipeline, knn_params, cv=5, scoring='accuracy', n_jobs=-1)\n",
    "grid_knn.fit(X_train_resampled, y_train_resampled)\n",
    "\n",
    "# Best KNN model\n",
    "best_knn = grid_knn.best_estimator_\n",
    "print(\"Best KNN Parameters:\", grid_knn.best_params_)\n",
    "\n"
   ]
  },
  {
   "cell_type": "code",
   "execution_count": 24,
   "metadata": {},
   "outputs": [
    {
     "name": "stdout",
     "output_type": "stream",
     "text": [
      "\n",
      "Model: K-Nearest Neighbors (SMOTE Applied)\n",
      "Accuracy: 0.8957\n",
      "              precision    recall  f1-score   support\n",
      "\n",
      "           0       0.98      0.90      0.94       621\n",
      "           1       0.52      0.89      0.66        79\n",
      "\n",
      "    accuracy                           0.90       700\n",
      "   macro avg       0.75      0.89      0.80       700\n",
      "weighted avg       0.93      0.90      0.91       700\n",
      "\n",
      "--------------------------------------------------\n"
     ]
    }
   ],
   "source": [
    "# Ensure that X_test is transformed using the same preprocessing pipeline\n",
    "X_test_transformed = preprocessor.transform(X_test)\n",
    "\n",
    "# Predict on transformed test data\n",
    "y_pred_knn = best_knn.predict(X_test_transformed)\n",
    "\n",
    "# Evaluate the model\n",
    "print(\"\\nModel: K-Nearest Neighbors (SMOTE Applied)\")\n",
    "print(f\"Accuracy: {accuracy_score(y_test, y_pred_knn):.4f}\")\n",
    "print(classification_report(y_test, y_pred_knn))\n",
    "print(\"-\" * 50)\n"
   ]
  },
  {
   "cell_type": "code",
   "execution_count": 25,
   "metadata": {},
   "outputs": [],
   "source": [
    "# Define hyperparameter grids for remaining models\n",
    "param_grids = {\n",
    "    \"Support Vector Machine\": {\n",
    "        'classifier__C': [0.1, 1, 10, 100],\n",
    "        'classifier__kernel': ['linear', 'rbf']\n",
    "    },\n",
    "    \"Decision Tree\": {\n",
    "        'classifier__max_depth': [5, 10, 20, None],\n",
    "        'classifier__min_samples_split': [2, 5, 10]\n",
    "    },\n",
    "    \"Random Forest\": {\n",
    "        'classifier__n_estimators': [50, 100, 200],\n",
    "        'classifier__max_depth': [5, 10, 20, None],\n",
    "        'classifier__min_samples_split': [2, 5, 10]\n",
    "    },\n",
    "    \"Gradient Boosting\": {\n",
    "        'classifier__n_estimators': [50, 100, 200],\n",
    "        'classifier__learning_rate': [0.01, 0.1, 0.2],\n",
    "        'classifier__max_depth': [3, 5, 10]\n",
    "    }\n",
    "}\n"
   ]
  },
  {
   "cell_type": "code",
   "execution_count": 26,
   "metadata": {},
   "outputs": [],
   "source": [
    "models = {\n",
    "    \"Support Vector Machine\": Pipeline([\n",
    "        ('preprocessor', preprocessor),  # Apply transformations\n",
    "        ('classifier', SVC(class_weight='balanced', probability=True, random_state=42))\n",
    "    ]),\n",
    "    \"Decision Tree\": Pipeline([\n",
    "        ('preprocessor', preprocessor),\n",
    "        ('classifier', DecisionTreeClassifier(class_weight='balanced', random_state=42))\n",
    "    ]),\n",
    "    \"Random Forest\": Pipeline([\n",
    "        ('preprocessor', preprocessor),\n",
    "        ('classifier', RandomForestClassifier(class_weight='balanced', random_state=42))\n",
    "    ]),\n",
    "    \"Gradient Boosting\": Pipeline([\n",
    "        ('preprocessor', preprocessor),\n",
    "        ('classifier', GradientBoostingClassifier(random_state=42))\n",
    "    ])\n",
    "}\n"
   ]
  },
  {
   "cell_type": "code",
   "execution_count": 27,
   "metadata": {},
   "outputs": [
    {
     "name": "stdout",
     "output_type": "stream",
     "text": [
      "\n",
      "Tuning Support Vector Machine...\n",
      "Best Support Vector Machine Parameters: {'classifier__C': 10, 'classifier__kernel': 'rbf'}\n",
      "\n",
      "Tuning Decision Tree...\n",
      "Best Decision Tree Parameters: {'classifier__max_depth': 5, 'classifier__min_samples_split': 2}\n",
      "\n",
      "Tuning Random Forest...\n",
      "Best Random Forest Parameters: {'classifier__max_depth': 10, 'classifier__min_samples_split': 5, 'classifier__n_estimators': 50}\n",
      "\n",
      "Tuning Gradient Boosting...\n",
      "Best Gradient Boosting Parameters: {'classifier__learning_rate': 0.01, 'classifier__max_depth': 5, 'classifier__n_estimators': 100}\n"
     ]
    }
   ],
   "source": [
    "# Dictionary to store best models\n",
    "best_models = {}\n",
    "\n",
    "for name, model in models.items():\n",
    "    print(f\"\\nTuning {name}...\")\n",
    "\n",
    "    # Perform Grid Search with Cross-Validation\n",
    "    grid_search = GridSearchCV(model, param_grids[name], cv=5, scoring='accuracy', n_jobs=-1)\n",
    "    grid_search.fit(X_train, y_train)\n",
    "\n",
    "    # Store the best model\n",
    "    best_models[name] = grid_search.best_estimator_\n",
    "    print(f\"Best {name} Parameters:\", grid_search.best_params_)\n"
   ]
  },
  {
   "cell_type": "code",
   "execution_count": 28,
   "metadata": {},
   "outputs": [
    {
     "name": "stdout",
     "output_type": "stream",
     "text": [
      "\n",
      " Model: Support Vector Machine\n",
      "Accuracy: 0.9843\n",
      "              precision    recall  f1-score   support\n",
      "\n",
      "           0       1.00      0.99      0.99       621\n",
      "           1       0.90      0.96      0.93        79\n",
      "\n",
      "    accuracy                           0.98       700\n",
      "   macro avg       0.95      0.97      0.96       700\n",
      "weighted avg       0.98      0.98      0.98       700\n",
      "\n",
      "--------------------------------------------------\n",
      "\n",
      " Model: Decision Tree\n",
      "Accuracy: 1.0000\n",
      "              precision    recall  f1-score   support\n",
      "\n",
      "           0       1.00      1.00      1.00       621\n",
      "           1       1.00      1.00      1.00        79\n",
      "\n",
      "    accuracy                           1.00       700\n",
      "   macro avg       1.00      1.00      1.00       700\n",
      "weighted avg       1.00      1.00      1.00       700\n",
      "\n",
      "--------------------------------------------------\n",
      "\n",
      " Model: Random Forest\n",
      "Accuracy: 1.0000\n",
      "              precision    recall  f1-score   support\n",
      "\n",
      "           0       1.00      1.00      1.00       621\n",
      "           1       1.00      1.00      1.00        79\n",
      "\n",
      "    accuracy                           1.00       700\n",
      "   macro avg       1.00      1.00      1.00       700\n",
      "weighted avg       1.00      1.00      1.00       700\n",
      "\n",
      "--------------------------------------------------\n",
      "\n",
      " Model: Gradient Boosting\n",
      "Accuracy: 0.9986\n",
      "              precision    recall  f1-score   support\n",
      "\n",
      "           0       1.00      1.00      1.00       621\n",
      "           1       0.99      1.00      0.99        79\n",
      "\n",
      "    accuracy                           1.00       700\n",
      "   macro avg       0.99      1.00      1.00       700\n",
      "weighted avg       1.00      1.00      1.00       700\n",
      "\n",
      "--------------------------------------------------\n"
     ]
    }
   ],
   "source": [
    "# Evaluate best models on test data\n",
    "for name, model in best_models.items():\n",
    "    y_pred = model.predict(X_test)\n",
    "    \n",
    "    print(f\"\\n Model: {name}\")\n",
    "    print(f\"Accuracy: {accuracy_score(y_test, y_pred):.4f}\")\n",
    "    print(classification_report(y_test, y_pred))\n",
    "    print(\"-\" * 50)\n"
   ]
  },
  {
   "cell_type": "markdown",
   "metadata": {},
   "source": [
    "### Model Performance After Hyperparameter Tuning\n",
    "\n",
    "After applying hyperparameter tuning to all models, the classification reports have been updated. Below is the comparison of each model's performance:\n",
    "\n",
    "#### K-Nearest Neighbors (SMOTE Applied)\n",
    "- **Accuracy:** 0.8957\n",
    "- **Class 0:** Precision = 0.98, Recall = 0.90, F1-score = 0.94\n",
    "- **Class 1:** Precision = 0.52, Recall = 0.89, F1-score = 0.66\n",
    "- **Macro Avg:** Precision = 0.75, Recall = 0.89, F1-score = 0.80\n",
    "- **Weighted Avg:** Precision = 0.93, Recall = 0.90, F1-score = 0.91\n",
    "\n",
    "#### Support Vector Machine (SVM)\n",
    "- **Accuracy:** 0.9843\n",
    "- **Class 0:** Precision = 1.00, Recall = 0.99, F1-score = 0.99\n",
    "- **Class 1:** Precision = 0.90, Recall = 0.96, F1-score = 0.93\n",
    "- **Macro Avg:** Precision = 0.95, Recall = 0.97, F1-score = 0.96\n",
    "- **Weighted Avg:** Precision = 0.98, Recall = 0.98, F1-score = 0.98\n",
    "\n",
    "#### Decision Tree\n",
    "- **Accuracy:** 1.0000\n",
    "- **Class 0:** Precision = 1.00, Recall = 1.00, F1-score = 1.00\n",
    "- **Class 1:** Precision = 1.00, Recall = 1.00, F1-score = 1.00\n",
    "- **Macro Avg:** Precision = 1.00, Recall = 1.00, F1-score = 1.00\n",
    "- **Weighted Avg:** Precision = 1.00, Recall = 1.00, F1-score = 1.00\n",
    "\n",
    "#### Random Forest\n",
    "- **Accuracy:** 1.0000\n",
    "- **Class 0:** Precision = 1.00, Recall = 1.00, F1-score = 1.00\n",
    "- **Class 1:** Precision = 1.00, Recall = 1.00, F1-score = 1.00\n",
    "- **Macro Avg:** Precision = 1.00, Recall = 1.00, F1-score = 1.00\n",
    "- **Weighted Avg:** Precision = 1.00, Recall = 1.00, F1-score = 1.00\n",
    "\n",
    "#### Gradient Boosting\n",
    "- **Accuracy:** 0.9986\n",
    "- **Class 0:** Precision = 1.00, Recall = 1.00, F1-score = 1.00\n",
    "- **Class 1:** Precision = 0.99, Recall = 1.00, F1-score = 0.99\n",
    "- **Macro Avg:** Precision = 0.99, Recall = 1.00, F1-score = 0.99\n",
    "- **Weighted Avg:** Precision = 1.00, Recall = 1.00, F1-score = 1.00\n",
    "\n",
    "### Conclusion\n",
    "\n",
    "- **SVM remains the most balanced model**, achieving high goodfit recall with only 0.3 difference.\n",
    "- **Decision Tree, Random Forest, and Gradient Boosting still exhibit overfitting**, with perfect accuracy and recall scores, suggesting poor generalization.\n",
    "- **KNN performs the worst**, particularly in predicting churn (class 1), despite SMOTE balancing the data.\n",
    "\n",
    "Given these results, **SVM remains the best choice** for predicting Netflix churn while maintaining generalizability.\n"
   ]
  },
  {
   "cell_type": "markdown",
   "metadata": {},
   "source": [
    "## Cross Validation"
   ]
  },
  {
   "cell_type": "code",
   "execution_count": 29,
   "metadata": {},
   "outputs": [
    {
     "name": "stdout",
     "output_type": "stream",
     "text": [
      "Cross-Validation Scores: [0.96785714 0.97678571 0.96428571 0.98214286 0.96964286]\n",
      "Mean Accuracy: 0.9721428571428572\n",
      "Standard Deviation: 0.006448382173309901\n"
     ]
    }
   ],
   "source": [
    "# Define\n",
    "best_svm = best_models[\"Support Vector Machine\"] \n",
    "\n",
    "# Perform 5-Fold Cross-Validation\n",
    "cv_scores = cross_val_score(best_svm, X_train, y_train, cv=5, scoring='accuracy')\n",
    "\n",
    "# Display results\n",
    "print(\"Cross-Validation Scores:\", cv_scores)\n",
    "print(\"Mean Accuracy:\", cv_scores.mean())\n",
    "print(\"Standard Deviation:\", cv_scores.std())\n"
   ]
  },
  {
   "cell_type": "markdown",
   "metadata": {},
   "source": [
    "### **Cross-Validation of the Best Model (SVM)**  \n",
    "\n",
    "To ensure the **stability and generalization** of our best-performing model (**Support Vector Machine**), we conducted a **5-Fold Cross-Validation**.\n",
    "\n",
    "#### **Results**  \n",
    "- **Cross-Validation Scores:** `[0.9679, 0.9768, 0.9643, 0.9821, 0.9696]`  \n",
    "- **Mean Accuracy:** `97.21%`  \n",
    "- **Standard Deviation:** `0.64%`  \n",
    "\n",
    "#### **Analysis**  \n",
    "- The **high mean accuracy (97.21%)** confirms that **SVM consistently performs well** across different training subsets.  \n",
    "- The **low standard deviation (0.64%)** suggests that the model is **stable** and **not highly sensitive** to different training samples.  \n",
    "- The **small variation in accuracy across folds** indicates that **SVM generalizes well** to new data.  \n",
    "\n",
    "#### **Conclusion**  \n",
    "**SVM is the best model for predicting Netflix Churn.**  \n",
    "With **high accuracy and low variance**, it is a **reliable and well-generalized choice** for this project.  \n",
    "\n"
   ]
  },
  {
   "cell_type": "code",
   "execution_count": 32,
   "metadata": {},
   "outputs": [],
   "source": [
    "# # Define y_pred_train for analysis strength weakness of model.\n",
    "# y_pred_train = best_svm.predict(X_train)\n",
    "\n",
    "# # Convert y_pred_train into a DataFrame\n",
    "# y_pred_train_df = pd.Series(y_pred_train, index=X_train.index, name=\"Predicted_Churn\")\n",
    "\n",
    "# # Concatenate X_train, y_train, and y_pred_train\n",
    "# train_analysis_df = pd.concat([X_train, y_train.rename(\"Actual_Churn\"), y_pred_train_df], axis=1)\n",
    "\n",
    "# # Save to CSV\n",
    "# train_analysis_df.to_csv(\"train_analysis.csv\", index=False)\n",
    "\n"
   ]
  },
  {
   "cell_type": "markdown",
   "metadata": {},
   "source": [
    "Next is to find false Negative churn customers misclassified."
   ]
  },
  {
   "cell_type": "code",
   "execution_count": 33,
   "metadata": {},
   "outputs": [],
   "source": [
    "# y_train = 1 (Actual Churn)\n",
    "# y_pred_train = 0 (predicted no churn)\n",
    "\n",
    "false_negatives = train_analysis_df[(train_analysis_df[\"Actual_Churn\"] == 1) & (train_analysis_df[\"Predicted_Churn\"] == 0)]"
   ]
  },
  {
   "cell_type": "code",
   "execution_count": 34,
   "metadata": {},
   "outputs": [
    {
     "name": "stdout",
     "output_type": "stream",
     "text": [
      "Actual_Churn\n",
      "0    2482\n",
      "1     318\n",
      "Name: count, dtype: int64\n",
      "Predicted_Churn\n",
      "0    2482\n",
      "1     318\n",
      "Name: count, dtype: int64\n"
     ]
    }
   ],
   "source": [
    "# Check the unique counts of actual and predicted churn\n",
    "print(train_analysis_df[\"Actual_Churn\"].value_counts())\n",
    "print(train_analysis_df[\"Predicted_Churn\"].value_counts())\n"
   ]
  },
  {
   "cell_type": "code",
   "execution_count": 35,
   "metadata": {},
   "outputs": [
    {
     "name": "stdout",
     "output_type": "stream",
     "text": [
      "2800\n",
      "2800\n"
     ]
    }
   ],
   "source": [
    "print((train_analysis_df[\"Actual_Churn\"] == train_analysis_df[\"Predicted_Churn\"]).sum())\n",
    "print(train_analysis_df.shape[0])\n"
   ]
  },
  {
   "cell_type": "code",
   "execution_count": 36,
   "metadata": {},
   "outputs": [
    {
     "name": "stdout",
     "output_type": "stream",
     "text": [
      "689 700\n"
     ]
    }
   ],
   "source": [
    "y_pred_test = best_svm.predict(X_test)\n",
    "print((y_pred_test == y_test).sum(), X_test.shape[0])\n"
   ]
  },
  {
   "cell_type": "markdown",
   "metadata": {},
   "source": [
    "**Strengths:**\n",
    "\n",
    "- The model is highly accurate and generalizes well.\n",
    "- It effectively identifies most churners (high recall).\n",
    "- False positives are less frequent, meaning retention efforts are not overly wasted.\n",
    "\n",
    "**Weaknesses:**\n",
    "\n",
    "- Some churners are undetected (FN)—check if they share patterns like high satisfaction scores but low engagement.\n",
    "- Some non-churners are misclassified (FP)—analyze if their support queries or payment history led to confusion."
   ]
  },
  {
   "cell_type": "markdown",
   "metadata": {},
   "source": [
    "Next is to save the model and use trial it with inference data."
   ]
  },
  {
   "cell_type": "markdown",
   "metadata": {},
   "source": [
    "# **Ch 8 - Model Saving**"
   ]
  },
  {
   "cell_type": "code",
   "execution_count": 37,
   "metadata": {},
   "outputs": [],
   "source": [
    "import joblib\n",
    "\n",
    "# # Define the model file name\n",
    "# model_filename = \"svm_churn_model.pkl\"\n",
    "\n",
    "# # Save the trained best SVM model\n",
    "# joblib.dump(best_svm, model_filename)\n",
    "\n",
    "# print(f\"Model saved successfully as {model_filename}\")\n"
   ]
  },
  {
   "cell_type": "markdown",
   "metadata": {},
   "source": [
    "## **Ch 10 - Model Deployment**"
   ]
  },
  {
   "cell_type": "markdown",
   "metadata": {},
   "source": [
    "The final **SVM model** will be deployed using a **Streamlit web application**, allowing users to upload new customer data for churn prediction. The web app will be **hosted on Hugging Face Spaces**."
   ]
  }
 ],
 "metadata": {
  "kernelspec": {
   "display_name": "base",
   "language": "python",
   "name": "python3"
  },
  "language_info": {
   "codemirror_mode": {
    "name": "ipython",
    "version": 3
   },
   "file_extension": ".py",
   "mimetype": "text/x-python",
   "name": "python",
   "nbconvert_exporter": "python",
   "pygments_lexer": "ipython3",
   "version": "3.12.7"
  }
 },
 "nbformat": 4,
 "nbformat_minor": 2
}
